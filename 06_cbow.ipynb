{
 "cells": [
  {
   "cell_type": "markdown",
   "metadata": {},
   "source": [
    "# Continuous Bag of Words (CBOW) Model"
   ]
  },
  {
   "cell_type": "code",
   "execution_count": 96,
   "metadata": {},
   "outputs": [],
   "source": [
    "corpus = [\n",
    "    \"Natural Language Processing is a fascinating field of study that has been evolving rapidly over the past few decades.\",\n",
    "    \"Machine learning provides powerful tools for automating tasks and making predictions from data.\",\n",
    "    \"Text data is often messy and unstructured, which makes it challenging to analyze and understand without the right tools.\",\n",
    "    \"Deep learning models have shown remarkable success in understanding complex patterns in data, especially for tasks related to NLP.\",\n",
    "    \"I love building machine learning models and experimenting with different techniques to improve their performance.\",\n",
    "    \"Clean and properly preprocessed data is essential for building successful machine learning models that generalize well.\"\n",
    "]"
   ]
  },
  {
   "cell_type": "code",
   "execution_count": 97,
   "metadata": {},
   "outputs": [
    {
     "data": {
      "text/plain": [
       "['Furthermore , as an encouragement to revisionist thinking , it manifestly is fair to admit that any fraternity has a constitutional right to refuse to accept persons it dislikes .',\n",
       " 'The Unitarian clergy were an exclusive club of cultivated gentlemen -- as the term was then understood in the Back Bay -- and Parker was definitely not a gentleman , either in theology or in manners .',\n",
       " 'Ezra Stiles Gannett , an honorable representative of the sanhedrin , addressed himself frankly to the issue in 1845 , insisting that Parker should not be persecuted or calumniated and that in this republic no power to restrain him by force could exist .',\n",
       " \"Even so , Gannett judiciously argued , the Association could legitimately decide that Parker `` should not be encouraged nor assisted in diffusing his opinions by those who differ from him in regard to their correctness '' .\",\n",
       " 'We today are not entitled to excoriate honest men who believed Parker to be downright pernicious and who barred their pulpits against his demand to poison the minds of their congregations .']"
      ]
     },
     "execution_count": 97,
     "metadata": {},
     "output_type": "execute_result"
    }
   ],
   "source": [
    "import pandas as pd\n",
    "df = pd.read_csv(\"brown.csv\")\n",
    "corpus = df['tokenized_text'].tolist()\n",
    "corpus = corpus[:10000]\n",
    "\n",
    "train_data = corpus[:8000]\n",
    "test_data = corpus[8000:]\n",
    "\n",
    "corpus[:5]"
   ]
  },
  {
   "cell_type": "code",
   "execution_count": 98,
   "metadata": {},
   "outputs": [
    {
     "name": "stdout",
     "output_type": "stream",
     "text": [
      "[['furthermore',\n",
      "  'encouragement',\n",
      "  'revisionist',\n",
      "  'thinking',\n",
      "  'manifestly',\n",
      "  'fair',\n",
      "  'admit',\n",
      "  'fraternity',\n",
      "  'constitutional',\n",
      "  'right',\n",
      "  'refuse',\n",
      "  'accept',\n",
      "  'persons',\n",
      "  'dislikes'],\n",
      " ['unitarian',\n",
      "  'clergy',\n",
      "  'exclusive',\n",
      "  'club',\n",
      "  'cultivated',\n",
      "  'gentlemen',\n",
      "  'term',\n",
      "  'understood',\n",
      "  'bay',\n",
      "  'parker',\n",
      "  'definitely',\n",
      "  'gentleman',\n",
      "  'theology',\n",
      "  'manners'],\n",
      " ['ezra',\n",
      "  'stiles',\n",
      "  'gannett',\n",
      "  'honorable',\n",
      "  'representative',\n",
      "  'sanhedrin',\n",
      "  'addressed',\n",
      "  'frankly',\n",
      "  'issue',\n",
      "  '1845',\n",
      "  'insisting',\n",
      "  'parker',\n",
      "  'persecuted',\n",
      "  'calumniated',\n",
      "  'republic',\n",
      "  'power',\n",
      "  'restrain',\n",
      "  'force',\n",
      "  'exist'],\n",
      " ['gannett',\n",
      "  'judiciously',\n",
      "  'argued',\n",
      "  'association',\n",
      "  'legitimately',\n",
      "  'decide',\n",
      "  'parker',\n",
      "  'encouraged',\n",
      "  'assisted',\n",
      "  'diffusing',\n",
      "  'opinions',\n",
      "  'differ',\n",
      "  'regard',\n",
      "  'correctness'],\n",
      " ['today',\n",
      "  'entitled',\n",
      "  'excoriate',\n",
      "  'honest',\n",
      "  'men',\n",
      "  'believed',\n",
      "  'parker',\n",
      "  'downright',\n",
      "  'pernicious',\n",
      "  'barred',\n",
      "  'pulpits',\n",
      "  'demand',\n",
      "  'poison',\n",
      "  'minds',\n",
      "  'congregations']]\n"
     ]
    }
   ],
   "source": [
    "import re\n",
    "import spacy\n",
    "from pprint import pprint\n",
    "\n",
    "nlp = spacy.load(\"en_core_web_sm\")\n",
    "\n",
    "\n",
    "def clean_text(documents: list[str]):\n",
    "    cleaned_docs = []\n",
    "    for doc in documents:\n",
    "        doc_text = re.sub(r\"[^\\w\\s]\", \"\", doc.lower())\n",
    "        doc_nlp = nlp(doc_text)\n",
    "        filtered_text = [token.text for token in doc_nlp if not token.is_stop and token.text.strip()]\n",
    "        cleaned_docs.append(filtered_text)\n",
    "\n",
    "    return cleaned_docs\n",
    "\n",
    "cleaned_corpus = clean_text(corpus[:5])\n",
    "pprint(cleaned_corpus[:5])\n"
   ]
  },
  {
   "cell_type": "code",
   "execution_count": 99,
   "metadata": {},
   "outputs": [
    {
     "name": "stdout",
     "output_type": "stream",
     "text": [
      "{'furthermore': 0, 'encouragement': 1, 'revisionist': 2, 'thinking': 3, 'manifestly': 4, 'fair': 5, 'admit': 6, 'fraternity': 7, 'constitutional': 8, 'right': 9, 'refuse': 10, 'accept': 11, 'persons': 12, 'dislikes': 13, 'unitarian': 14, 'clergy': 15, 'exclusive': 16, 'club': 17, 'cultivated': 18, 'gentlemen': 19, 'term': 20, 'understood': 21, 'bay': 22, 'parker': 23, 'definitely': 24, 'gentleman': 25, 'theology': 26, 'manners': 27, 'ezra': 28, 'stiles': 29, 'gannett': 30, 'honorable': 31, 'representative': 32, 'sanhedrin': 33, 'addressed': 34, 'frankly': 35, 'issue': 36, '1845': 37, 'insisting': 38, 'persecuted': 39, 'calumniated': 40, 'republic': 41, 'power': 42, 'restrain': 43, 'force': 44, 'exist': 45, 'judiciously': 46, 'argued': 47, 'association': 48, 'legitimately': 49, 'decide': 50, 'encouraged': 51, 'assisted': 52, 'diffusing': 53, 'opinions': 54, 'differ': 55, 'regard': 56, 'correctness': 57, 'today': 58, 'entitled': 59, 'excoriate': 60, 'honest': 61, 'men': 62, 'believed': 63, 'downright': 64, 'pernicious': 65, 'barred': 66, 'pulpits': 67, 'demand': 68, 'poison': 69, 'minds': 70, 'congregations': 71}\n",
      "{0: 'furthermore', 1: 'encouragement', 2: 'revisionist', 3: 'thinking', 4: 'manifestly', 5: 'fair', 6: 'admit', 7: 'fraternity', 8: 'constitutional', 9: 'right', 10: 'refuse', 11: 'accept', 12: 'persons', 13: 'dislikes', 14: 'unitarian', 15: 'clergy', 16: 'exclusive', 17: 'club', 18: 'cultivated', 19: 'gentlemen', 20: 'term', 21: 'understood', 22: 'bay', 23: 'parker', 24: 'definitely', 25: 'gentleman', 26: 'theology', 27: 'manners', 28: 'ezra', 29: 'stiles', 30: 'gannett', 31: 'honorable', 32: 'representative', 33: 'sanhedrin', 34: 'addressed', 35: 'frankly', 36: 'issue', 37: '1845', 38: 'insisting', 39: 'persecuted', 40: 'calumniated', 41: 'republic', 42: 'power', 43: 'restrain', 44: 'force', 45: 'exist', 46: 'judiciously', 47: 'argued', 48: 'association', 49: 'legitimately', 50: 'decide', 51: 'encouraged', 52: 'assisted', 53: 'diffusing', 54: 'opinions', 55: 'differ', 56: 'regard', 57: 'correctness', 58: 'today', 59: 'entitled', 60: 'excoriate', 61: 'honest', 62: 'men', 63: 'believed', 64: 'downright', 65: 'pernicious', 66: 'barred', 67: 'pulpits', 68: 'demand', 69: 'poison', 70: 'minds', 71: 'congregations'}\n",
      "72\n"
     ]
    }
   ],
   "source": [
    "from collections import Counter\n",
    "\n",
    "def build_vocab(corpus: list[str]):\n",
    "    vocab = Counter(term for doc in corpus for term in doc)\n",
    "    word_to_idx = {word: idx for idx, (word, _) in enumerate(vocab.items())}\n",
    "    idx_to_word = {idx: word for idx, (word, _) in enumerate(vocab.items())}\n",
    "    return word_to_idx, idx_to_word\n",
    "\n",
    "word_to_idx, idx_to_word = build_vocab(cleaned_corpus[:5])\n",
    "print(word_to_idx)\n",
    "print(idx_to_word)\n",
    "print(len(word_to_idx))"
   ]
  },
  {
   "cell_type": "code",
   "execution_count": 100,
   "metadata": {},
   "outputs": [
    {
     "data": {
      "text/plain": [
       "[(['furthermore', 'encouragement', 'revisionist'], 'furthermore'),\n",
       " (['furthermore', 'encouragement', 'revisionist', 'thinking'],\n",
       "  'encouragement'),\n",
       " (['furthermore', 'encouragement', 'revisionist', 'thinking', 'manifestly'],\n",
       "  'revisionist'),\n",
       " (['encouragement', 'revisionist', 'thinking', 'manifestly', 'fair'],\n",
       "  'thinking'),\n",
       " (['revisionist', 'thinking', 'manifestly', 'fair', 'admit'], 'manifestly')]"
      ]
     },
     "execution_count": 100,
     "metadata": {},
     "output_type": "execute_result"
    }
   ],
   "source": [
    "def create_context_target_pairs(corpus: list[str], window_size: int = 2):\n",
    "    pairs = []\n",
    "    for document in corpus:\n",
    "        for idx, term in enumerate(document):\n",
    "            start_idx = max(idx - window_size, 0)\n",
    "            end_idx = min(idx + window_size + 1, len(document))\n",
    "            pairs.append(([document[i] for i in range(start_idx, end_idx)], term))\n",
    "\n",
    "    return pairs\n",
    "\n",
    "pairs = create_context_target_pairs(cleaned_corpus)\n",
    "pairs[:5]   "
   ]
  },
  {
   "cell_type": "code",
   "execution_count": 101,
   "metadata": {},
   "outputs": [
    {
     "data": {
      "text/plain": [
       "[([0, 1, 2], 0),\n",
       " ([0, 1, 2, 3], 1),\n",
       " ([0, 1, 2, 3, 4], 2),\n",
       " ([1, 2, 3, 4, 5], 3),\n",
       " ([2, 3, 4, 5, 6], 4)]"
      ]
     },
     "execution_count": 101,
     "metadata": {},
     "output_type": "execute_result"
    }
   ],
   "source": [
    "def encode_pairs(pairs: list[str], word_to_idx: dict):\n",
    "    encoded_pairs = []\n",
    "    for context, target in pairs:\n",
    "        context_idx = [word_to_idx[term] for term in context]\n",
    "        target_idx = word_to_idx[target]\n",
    "        encoded_pairs.append((context_idx, target_idx))\n",
    "\n",
    "    return encoded_pairs\n",
    "\n",
    "encoded_pairs = encode_pairs(pairs, word_to_idx)\n",
    "encoded_pairs[:5]"
   ]
  },
  {
   "cell_type": "code",
   "execution_count": 102,
   "metadata": {},
   "outputs": [],
   "source": [
    "import torch\n",
    "from torch.utils.data import TensorDataset, DataLoader\n",
    "from torch.nn.utils.rnn import pad_sequence\n",
    "from sklearn.model_selection import train_test_split\n",
    "\n",
    "def convert_to_dataset(encoded_pairs: list, batch_size: int):\n",
    "    context_data, target_data = zip(*encoded_pairs)\n",
    "    context_tensors = [torch.tensor(context, dtype=torch.long) for context in context_data]\n",
    "    context_tensor = pad_sequence(context_tensors, batch_first=True)\n",
    "    target_tensor = torch.tensor(target_data, dtype=torch.long)\n",
    "    dataset = TensorDataset(context_tensor, target_tensor)\n",
    "    dataloader = DataLoader(dataset, batch_size=batch_size, shuffle=True)\n",
    "\n",
    "    return dataloader\n",
    "\n",
    "def create_dataset(corpus: list[str], batch_size: int, test_size: float = 0.2) -> tuple[DataLoader, DataLoader, int]:\n",
    "    cleaned_corpus = clean_text(corpus)\n",
    "    word_to_idx, idx_to_word = build_vocab(cleaned_corpus)\n",
    "    pairs = create_context_target_pairs(cleaned_corpus)\n",
    "    encoded_pairs = encode_pairs(pairs, word_to_idx)\n",
    "    train_pairs, test_pairs = train_test_split(encoded_pairs, test_size=test_size, random_state=42)\n",
    "    return convert_to_dataset(train_pairs, batch_size), convert_to_dataset(test_pairs, batch_size), len(word_to_idx)\n"
   ]
  },
  {
   "cell_type": "markdown",
   "metadata": {},
   "source": [
    "`nn.Embedding(vocab_size, embedding_dim)`: This creates a lookup table for the embeddings. It takes two arguments:\n",
    "- `vocab_size`: The size of the vocabulary (number of unique words in the corpus).\n",
    "- `embedding_dim`: The dimension of the embeddings.\n",
    "\n",
    "When you pass a tensor of indices to the `Embedding` layer, it looks up the embeddings for each index and returns a tensor of shape `(batch_size, sequence_length, embedding_dim)`.\n",
    "\n",
    "in the forward pass, the mean of the embeddings is taken and then passed to the linear layer. this is necessary as mean is a good choice for cbow model because:\n",
    "- Stability: Averaging smooths out noise and produces more stable representations.\n",
    "- Invariance to Context Size: Whether you have 2 or 10 context words, you get an embedding of the same dimension and approximate magnitude.\n",
    "- Computational Efficiency: It's simple and fast to compute.\n",
    "- Theoretical Interpretation: It can be interpreted as estimating the expected context embedding for a given target word.\n"
   ]
  },
  {
   "cell_type": "code",
   "execution_count": 107,
   "metadata": {},
   "outputs": [
    {
     "name": "stdout",
     "output_type": "stream",
     "text": [
      "902\n"
     ]
    },
    {
     "name": "stderr",
     "output_type": "stream",
     "text": [
      "Training: 100%|██████████| 1/1 [00:00<00:00, 10.92it/s]"
     ]
    },
    {
     "name": "stdout",
     "output_type": "stream",
     "text": [
      "tensor([[ 0.3595, -0.1954,  0.1470,  ...,  0.3148,  0.1500,  0.3212],\n",
      "        [ 0.2137, -0.1259,  0.3340,  ...,  0.2505,  0.0685,  0.4523],\n",
      "        [ 0.2156,  0.4084, -0.4595,  ...,  0.3298,  0.1574, -0.2721],\n",
      "        ...,\n",
      "        [-0.2099,  0.2378,  0.1038,  ...,  0.1631, -0.1467, -0.3970],\n",
      "        [ 0.6508,  0.3548,  0.0158,  ...,  0.7627,  0.3785, -0.3861],\n",
      "        [ 0.7009,  0.4172,  0.1575,  ...,  0.7839,  0.1812, -0.0566]],\n",
      "       grad_fn=<AddmmBackward0>)\n",
      "y_pred.shape: torch.Size([32, 902])\n",
      "tensor([547,  88, 291,  78, 830, 186, 818, 319, 571, 888, 516, 835, 535,  13,\n",
      "         23, 186, 376, 538, 241, 564, 354, 769,  23, 747, 259, 667, 513, 114,\n",
      "        252,  18, 605, 437])\n",
      "y_train.shape: torch.Size([32])\n",
      "tensor([[ 0.5864,  0.7046, -0.4820,  ...,  1.0216,  0.3166, -0.7296],\n",
      "        [ 0.1198,  0.3302, -0.1496,  ...,  0.4059, -0.0496, -0.3484],\n",
      "        [-0.1798, -0.0930,  0.6655,  ...,  0.0617, -0.1897, -0.0171],\n",
      "        ...,\n",
      "        [ 0.2400,  0.3594,  0.4369,  ...,  0.5559,  0.4771, -0.3217],\n",
      "        [ 0.3313,  0.4032, -0.1131,  ...,  0.6629,  0.0897, -0.1554],\n",
      "        [ 0.2087,  0.4212,  0.4657,  ...,  0.5177, -0.0605, -0.2227]],\n",
      "       grad_fn=<AddmmBackward0>)\n",
      "y_pred.shape: torch.Size([32, 902])\n",
      "tensor([ 14, 729, 472, 370, 383, 365, 246, 308, 526,  71, 160, 283,  24, 899,\n",
      "        326, 761, 204,  23, 203, 442, 172, 804, 854, 338, 301, 632, 875, 133,\n",
      "        478, 243, 575, 638])\n",
      "y_train.shape: torch.Size([32])\n",
      "tensor([[-0.0464,  0.3304,  0.4953,  ...,  0.3007,  0.1751,  0.2911],\n",
      "        [ 0.6863,  0.3889, -0.0445,  ...,  0.9228,  0.3168, -0.3244],\n",
      "        [ 0.3680,  0.6036,  0.2435,  ...,  1.1494,  0.4586, -0.2451],\n",
      "        ...,\n",
      "        [ 0.3647,  0.5297,  0.1813,  ...,  0.8988, -0.0672, -0.2316],\n",
      "        [-0.0511,  0.0405,  0.1905,  ...,  0.1810, -0.0847,  0.0279],\n",
      "        [-0.0423,  0.3993,  0.2920,  ...,  0.5496, -0.4439, -0.1564]],\n",
      "       grad_fn=<AddmmBackward0>)\n",
      "y_pred.shape: torch.Size([32, 902])\n",
      "tensor([143, 527, 479, 664, 703, 108, 101, 158,   0, 299, 821, 558, 877, 599,\n",
      "         68, 432, 567, 806, 103, 238, 219, 137, 565, 213, 435, 747, 712, 481,\n",
      "        145,  23, 900, 410])\n",
      "y_train.shape: torch.Size([32])\n",
      "tensor([[ 0.0608, -0.2167,  0.6987,  ...,  0.2387,  0.1768,  0.4248],\n",
      "        [ 0.4298,  0.2004,  0.1897,  ...,  0.7940,  0.0567, -0.1110],\n",
      "        [-0.0190,  0.2970,  0.4037,  ...,  0.4707, -0.2333, -0.0391],\n",
      "        ...,\n",
      "        [ 0.3335,  0.0941, -0.0084,  ...,  0.4976, -0.2170, -0.1874],\n",
      "        [ 0.4688,  0.0436,  0.0661,  ...,  0.6885,  0.2341, -0.2772],\n",
      "        [ 0.4583,  0.4549, -0.2322,  ...,  0.8815,  0.1055, -0.4615]],\n",
      "       grad_fn=<AddmmBackward0>)\n",
      "y_pred.shape: torch.Size([32, 902])\n",
      "tensor([771, 752, 894, 809,  67, 374,  90, 774, 569, 691, 242, 386, 647, 432,\n",
      "         23, 886, 279, 229, 484, 738, 331, 673, 243, 250, 636, 554, 747, 170,\n",
      "        416, 482,  70,  27])\n",
      "y_train.shape: torch.Size([32])\n",
      "tensor([[ 0.0299, -0.0305,  0.4281,  ...,  0.2138,  0.0460, -0.3105],\n",
      "        [ 0.3228,  0.4489,  0.2630,  ...,  0.9085, -0.3142, -0.6588],\n",
      "        [-0.2780,  0.1427,  0.6027,  ...,  0.1655, -0.5357, -0.1709],\n",
      "        ...,\n",
      "        [-0.4350, -0.2441,  0.3399,  ..., -0.0544, -0.3936,  0.0209],\n",
      "        [-0.1812,  0.3787,  0.2000,  ...,  0.2942, -0.3312, -0.5823],\n",
      "        [-0.2498,  0.0967,  0.2805,  ...,  0.2547, -0.0050, -0.2620]],\n",
      "       grad_fn=<AddmmBackward0>)\n",
      "y_pred.shape: torch.Size([32, 902])\n",
      "tensor([545,  23, 758,  98, 483, 304, 391,  48, 622, 287, 403, 128, 440, 623,\n",
      "        499, 430,  52, 122, 787, 743, 555, 134, 362, 284, 208, 189, 133, 504,\n",
      "        630, 621, 640, 385])\n",
      "y_train.shape: torch.Size([32])\n",
      "tensor([[-0.8336, -0.1003,  0.6235,  ..., -0.2936, -0.4765,  0.5335],\n",
      "        [ 0.0581,  0.4074, -0.1761,  ...,  0.4880, -0.1528, -0.7603],\n",
      "        [-0.4005,  0.2707,  0.6701,  ...,  0.3075, -0.5897,  0.0285],\n",
      "        ...,\n",
      "        [-0.2890,  0.2993,  0.5938,  ...,  0.2548, -0.0107,  0.3874],\n",
      "        [ 0.1763,  0.1034,  0.0246,  ...,  0.2887, -0.1557, -0.0738],\n",
      "        [-0.5182,  0.4022,  0.4218,  ...,  0.2039, -0.4568, -0.4299]],\n",
      "       grad_fn=<AddmmBackward0>)\n",
      "y_pred.shape: torch.Size([32, 902])\n",
      "tensor([747, 641, 275, 485, 146, 775, 439, 398,   1, 625, 248, 106, 312, 531,\n",
      "        464, 810, 216, 449,  71, 119, 783,   7,  74, 510, 163, 165, 674, 592,\n",
      "        875, 851, 436,  44])\n",
      "y_train.shape: torch.Size([32])\n",
      "tensor([[ 0.1970,  0.1468,  0.7404,  ...,  0.5713,  0.1199, -0.1283],\n",
      "        [ 0.0636, -0.1863,  0.9027,  ...,  0.0839,  0.0971, -0.0399],\n",
      "        [-0.2793,  0.2319,  0.0962,  ..., -0.0131, -0.3896, -0.2249],\n",
      "        ...,\n",
      "        [-0.1463,  0.1645, -0.0027,  ...,  0.2250, -0.3015,  0.0965],\n",
      "        [ 0.7722,  0.1465, -0.2313,  ...,  1.0916,  0.1369, -0.5013],\n",
      "        [ 0.1046, -0.0518,  0.0452,  ...,  0.3769,  0.3897,  0.0437]],\n",
      "       grad_fn=<AddmmBackward0>)\n",
      "y_pred.shape: torch.Size([32, 902])\n",
      "tensor([109, 871, 367, 752, 337, 282, 528, 752, 225, 152, 428, 588, 451, 644,\n",
      "        790,  50,  54, 582, 895, 244, 696, 587, 739,  74, 280, 267, 121, 188,\n",
      "          9, 690, 882, 450])\n",
      "y_train.shape: torch.Size([32])\n",
      "tensor([[ 0.0772,  0.0290,  0.0758,  ...,  0.2822, -0.3514, -0.2134],\n",
      "        [ 0.1717,  0.1515,  0.1037,  ...,  0.4415,  0.0421,  0.0691],\n",
      "        [ 0.3674,  0.0993, -0.0711,  ...,  0.3867, -0.0734,  0.1664],\n",
      "        ...,\n",
      "        [ 0.3094,  0.1163,  0.0379,  ...,  0.3950, -0.2506, -0.3832],\n",
      "        [-0.3213,  0.0798,  0.6604,  ..., -0.0716, -0.4079,  0.3668],\n",
      "        [ 0.3333,  0.2263, -0.0468,  ...,  0.5081, -0.1337,  0.0444]],\n",
      "       grad_fn=<AddmmBackward0>)\n",
      "y_pred.shape: torch.Size([32, 902])\n",
      "tensor([183, 373, 846, 614, 342,  15, 535, 309, 399, 282, 826, 827, 336, 491,\n",
      "        270, 135,  42, 677, 351, 687,  63, 307, 752,  80,  69, 853, 490, 474,\n",
      "        583,  94, 608, 847])\n",
      "y_train.shape: torch.Size([32])\n",
      "tensor([[ 0.2728,  0.4877,  0.2994,  ...,  0.6814,  0.1033,  0.1793],\n",
      "        [-0.1708,  0.1974,  0.0654,  ...,  0.2335, -0.4411, -0.5622],\n",
      "        [ 0.4756,  0.0925,  0.3199,  ...,  0.5847,  0.0800, -0.3659],\n",
      "        ...,\n",
      "        [-0.0207,  0.2174,  0.0454,  ...,  0.3022, -0.4520, -0.1421],\n",
      "        [-0.0858, -0.3243,  0.4936,  ...,  0.1290, -0.2938,  0.5528],\n",
      "        [ 0.1136, -0.1865,  0.6496,  ...,  0.1329, -0.2700,  0.7156]],\n",
      "       grad_fn=<AddmmBackward0>)\n",
      "y_pred.shape: torch.Size([32, 902])\n",
      "tensor([ 37, 208, 423, 171, 502, 455, 843, 239, 453, 822, 469, 188, 168, 449,\n",
      "        819,  48, 375, 240, 303, 543, 677, 463, 649, 798, 892,  23, 175, 734,\n",
      "        489,  23,   4, 460])\n",
      "y_train.shape: torch.Size([32])\n",
      "tensor([[-1.3590e-01,  3.2565e-01,  4.6893e-01,  ...,  2.2741e-01,\n",
      "          7.2616e-02, -1.1014e-01],\n",
      "        [ 4.0447e-01,  4.2523e-01, -4.4303e-01,  ...,  7.3772e-01,\n",
      "         -5.4568e-04, -7.7880e-01],\n",
      "        [-3.4055e-01,  3.8464e-01,  6.0896e-01,  ...,  1.2365e-01,\n",
      "         -1.2971e-01,  1.8863e-01],\n",
      "        ...,\n",
      "        [ 2.8825e-01,  3.1438e-01, -8.9251e-02,  ...,  7.0291e-01,\n",
      "         -2.4195e-01, -2.6694e-01],\n",
      "        [ 1.5953e-01,  2.5356e-01,  4.0410e-01,  ...,  4.3129e-01,\n",
      "          1.8182e-01, -5.9508e-01],\n",
      "        [ 4.7613e-02, -2.5095e-01,  2.6837e-01,  ...,  1.3016e-01,\n",
      "         -1.5273e-01,  5.4149e-02]], grad_fn=<AddmmBackward0>)\n",
      "y_pred.shape: torch.Size([32, 902])\n",
      "tensor([497, 504,  62, 568, 221,  36, 477, 706, 645, 794, 191, 523, 839, 248,\n",
      "        159, 227, 371, 415, 384, 226, 292, 648, 212, 738, 661,  73, 756, 258,\n",
      "        787, 752, 114, 546])\n",
      "y_train.shape: torch.Size([32])\n",
      "tensor([[-0.0089,  0.3575,  0.0080,  ...,  0.3050, -0.6231, -0.3482],\n",
      "        [-0.3247,  0.3283,  0.1350,  ...,  0.1528, -0.4670, -0.3559],\n",
      "        [ 0.3725,  0.4517, -0.1118,  ...,  0.7061, -0.0398, -0.9918],\n",
      "        ...,\n",
      "        [-0.1169,  0.0496,  0.7231,  ...,  0.2287,  0.0556, -0.0548],\n",
      "        [-0.4473,  0.0954, -0.3114,  ..., -0.2516, -0.5417, -0.4094],\n",
      "        [ 0.1068,  0.3173, -0.7888,  ...,  0.4297, -0.6319, -1.3589]],\n",
      "       grad_fn=<AddmmBackward0>)\n",
      "y_pred.shape: torch.Size([32, 902])\n",
      "tensor([344, 147, 767, 201, 178, 457,  93, 607, 349, 566, 142,  45,  80, 868,\n",
      "        595, 844, 283, 105, 693, 836, 108, 787, 316, 219, 842, 177,  29,   9,\n",
      "        489, 111, 731, 594])\n",
      "y_train.shape: torch.Size([32])\n",
      "tensor([[ 0.5344,  0.0985, -0.5727,  ...,  0.7376,  0.0887, -0.5202],\n",
      "        [-0.3381,  0.2009,  0.6487,  ...,  0.2552, -0.0722,  0.0650],\n",
      "        [ 0.3694,  0.4376, -0.3160,  ...,  0.5364, -0.1951, -0.5353],\n",
      "        ...,\n",
      "        [ 0.1763, -0.0392,  0.1308,  ...,  0.2246, -0.0252,  0.2733],\n",
      "        [ 0.1158,  0.3538,  0.0206,  ...,  0.3795, -0.1622, -0.0950],\n",
      "        [-0.0183, -0.0563,  0.2664,  ..., -0.0714, -0.1375, -0.3659]],\n",
      "       grad_fn=<AddmmBackward0>)\n",
      "y_pred.shape: torch.Size([32, 902])\n",
      "tensor([210, 329,  14,  48, 660, 211, 424, 778, 752, 311, 780, 140, 662,  64,\n",
      "        755, 457, 820,  23, 627, 740,  85,  30,  20,  84, 744, 525,  12, 563,\n",
      "         80,   8, 548, 319])\n",
      "y_train.shape: torch.Size([32])\n",
      "tensor([[-0.3613,  0.2712,  0.5633,  ...,  0.0549, -0.1564,  0.1250],\n",
      "        [-0.1852, -0.2913,  0.1552,  ...,  0.1556,  0.0876, -0.1238],\n",
      "        [ 0.0204,  0.1902, -0.2194,  ...,  0.2840, -0.4177, -0.2941],\n",
      "        ...,\n",
      "        [ 0.2201,  0.0066,  0.4947,  ...,  0.3014,  0.0109, -0.2835],\n",
      "        [-0.1829,  0.1037,  0.0935,  ...,  0.0515, -0.2650,  0.0546],\n",
      "        [-0.0660,  0.1043, -0.3645,  ...,  0.1226, -0.2185, -0.6118]],\n",
      "       grad_fn=<AddmmBackward0>)\n",
      "y_pred.shape: torch.Size([32, 902])\n",
      "tensor([136, 380, 122, 436, 324, 863, 503, 791, 328, 776, 558, 414, 620, 728,\n",
      "        233, 480, 432, 232,  65, 219, 302, 195, 413,  25, 404, 415, 757, 151,\n",
      "        405, 422, 138, 730])\n",
      "y_train.shape: torch.Size([32])\n",
      "tensor([[ 0.2358,  0.1331,  0.2646,  ...,  0.2634,  0.1014, -0.5605],\n",
      "        [-0.3804,  0.0358, -0.0010,  ..., -0.0722, -0.3574, -0.2211],\n",
      "        [ 0.6738,  0.0419,  0.1063,  ...,  0.6405,  0.2496, -0.1660],\n",
      "        ...,\n",
      "        [ 0.0203, -0.3534,  0.6710,  ..., -0.0186, -0.1102,  0.0734],\n",
      "        [ 0.2577,  0.5654, -0.2644,  ...,  0.7529, -0.1202, -0.5539],\n",
      "        [ 0.2564,  0.1903, -0.2383,  ...,  0.2743,  0.1871, -0.5554]],\n",
      "       grad_fn=<AddmmBackward0>)\n",
      "y_pred.shape: torch.Size([32, 902])\n",
      "tensor([392, 724, 738, 729, 613, 860,  28,  21, 409, 256, 459, 353, 209, 760,\n",
      "        179, 889, 310, 809, 285, 620,  22, 197,  80,  38, 199,  39, 505, 378,\n",
      "         23, 871, 117, 251])\n",
      "y_train.shape: torch.Size([32])\n",
      "tensor([[-0.3229,  0.3030,  0.5593,  ...,  0.2582, -0.2744, -0.2268],\n",
      "        [ 0.1657,  0.1991,  0.0990,  ...,  0.4016,  0.1315,  0.1056],\n",
      "        [ 0.1419, -0.0260,  0.3242,  ...,  0.2367, -0.1234,  0.3239],\n",
      "        ...,\n",
      "        [ 0.4430,  0.2962, -0.6487,  ...,  0.4111, -0.2668, -1.3079],\n",
      "        [ 0.5038,  0.5289, -0.4635,  ...,  0.7117, -0.0976, -1.0455],\n",
      "        [-0.2400, -0.0454,  0.6068,  ..., -0.1147, -0.3167,  0.4326]],\n",
      "       grad_fn=<AddmmBackward0>)\n",
      "y_pred.shape: torch.Size([32, 902])\n",
      "tensor([626, 655, 219, 188, 134, 372, 808, 293,  71, 230, 353, 832, 698,  61,\n",
      "        281, 879, 290, 401, 676, 752, 617, 579, 798, 353,  75, 700, 225, 364,\n",
      "         76, 320, 220,   7])\n",
      "y_train.shape: torch.Size([32])\n",
      "tensor([[ 0.5083, -0.1420, -0.1155,  ...,  0.2353,  0.3131, -0.0277],\n",
      "        [ 0.0965, -0.0936,  0.7725,  ...,  0.0844,  0.0543, -0.0746],\n",
      "        [-0.3060,  0.2239,  0.3209,  ...,  0.3355, -0.4423, -0.4715],\n",
      "        ...,\n",
      "        [ 0.5016,  0.0468, -0.5591,  ...,  0.2246, -0.0425, -0.3903],\n",
      "        [ 0.7308,  0.6148, -0.5489,  ...,  0.7172, -0.0293, -1.0834],\n",
      "        [ 0.2916,  0.4585, -0.4826,  ...,  0.4429, -0.1157, -0.6916]],\n",
      "       grad_fn=<AddmmBackward0>)\n",
      "y_pred.shape: torch.Size([32, 902])\n",
      "tensor([276, 873, 334, 799, 615, 254, 217, 747, 549, 208, 122, 215, 665, 217,\n",
      "         23, 306, 134, 383, 625, 163, 244, 271, 194, 305, 315, 481, 265, 113,\n",
      "        695, 845, 364, 337])\n",
      "y_train.shape: torch.Size([32])\n",
      "tensor([[ 0.0968,  0.5082, -0.0710,  ...,  0.5976,  0.0633,  0.1849],\n",
      "        [-0.0742, -0.0849,  0.1065,  ...,  0.1760, -0.0458,  0.0385],\n",
      "        [-0.0173,  0.1931,  0.3095,  ...,  0.3139, -0.0073,  0.0767],\n",
      "        ...,\n",
      "        [-0.3324, -0.2587,  0.8411,  ...,  0.0839, -0.1507,  0.1565],\n",
      "        [-0.0153,  0.0283, -0.4244,  ...,  0.2450, -0.4104, -0.7687],\n",
      "        [ 0.2472,  0.0446,  0.3005,  ...,  0.3387,  0.0669, -0.0471]],\n",
      "       grad_fn=<AddmmBackward0>)\n",
      "y_pred.shape: torch.Size([32, 902])\n",
      "tensor([121, 299, 170, 784,  56, 352, 164, 276, 155,  23, 637, 327,  99, 418,\n",
      "        616, 692,  23, 125, 649, 202, 612, 884, 330, 833, 578, 580, 379,  16,\n",
      "         58,  74, 714, 473])\n",
      "y_train.shape: torch.Size([32])\n",
      "tensor([[ 0.3164,  0.5057, -0.4045,  ...,  0.6353, -0.1435, -0.8124],\n",
      "        [ 0.4273,  0.3139, -0.6065,  ...,  0.5125, -0.1062, -0.9637],\n",
      "        [ 0.4830,  0.1658, -0.6953,  ...,  0.6314, -0.0531, -0.8674],\n",
      "        ...,\n",
      "        [ 0.0242,  0.1920, -0.5352,  ...,  0.1692,  0.2616, -1.3234],\n",
      "        [ 0.4246, -0.1414,  0.6018,  ...,  0.2980,  0.1525,  0.1850],\n",
      "        [-0.2375,  0.2391, -0.0139,  ...,  0.0206, -0.2543, -0.2492]],\n",
      "       grad_fn=<AddmmBackward0>)\n",
      "y_pred.shape: torch.Size([32, 902])\n",
      "tensor([651,  30, 751, 458, 198, 360, 559, 184, 738, 817, 536, 613, 412, 881,\n",
      "        389, 115, 572, 135, 849, 825, 745,  33, 653, 353, 551, 155, 162, 746,\n",
      "        475, 467, 720, 262])\n",
      "y_train.shape: torch.Size([32])\n",
      "tensor([[ 0.2050,  0.0147,  0.0078,  ...,  0.3178,  0.2065, -0.0277],\n",
      "        [ 0.2526,  0.2711,  0.2174,  ...,  0.6680, -0.0448, -0.1740],\n",
      "        [ 0.3962,  0.5847, -0.8098,  ...,  0.5583, -0.5352, -0.9384],\n",
      "        ...,\n",
      "        [-0.1076,  0.5819, -0.0453,  ...,  0.5221, -0.2240, -0.1407],\n",
      "        [ 0.5055,  0.4812, -0.8403,  ...,  0.6472, -0.1739, -1.3615],\n",
      "        [-0.0946, -0.0723,  0.4563,  ...,  0.1163, -0.0131,  0.3620]],\n",
      "       grad_fn=<AddmmBackward0>)\n",
      "y_pred.shape: torch.Size([32, 902])\n",
      "tensor([153, 763, 584, 176, 752,  63, 788, 325, 540, 625, 275, 282, 182,  80,\n",
      "        753, 272, 745, 295, 493, 654, 411, 501, 120, 752,  23, 878, 436, 852,\n",
      "        207, 118, 829,  19])\n",
      "y_train.shape: torch.Size([32])\n",
      "tensor([[-0.1947,  0.1521, -0.4091,  ...,  0.0697, -0.5435, -0.0585],\n",
      "        [ 0.0785, -0.0784,  0.4719,  ...,  0.3350,  0.0195,  0.0233],\n",
      "        [ 0.6996,  0.4392, -0.6271,  ...,  0.7247,  0.3157, -1.4496],\n",
      "        ...,\n",
      "        [ 0.7571,  0.2742, -0.3036,  ...,  0.7774,  0.0896, -0.7266],\n",
      "        [ 0.5055,  0.2220,  0.0214,  ...,  0.5751,  0.3175, -0.0860],\n",
      "        [ 0.0983, -0.2972,  0.3595,  ...,  0.3649,  0.0997,  0.1187]],\n",
      "       grad_fn=<AddmmBackward0>)\n",
      "y_pred.shape: torch.Size([32, 902])\n",
      "tensor([574, 643, 394, 193, 426, 736, 150, 601,  21, 425, 336, 520, 705, 592,\n",
      "         70,  23, 294, 548,  90,  35, 278, 147, 419, 152, 112,  92, 120, 433,\n",
      "        688, 644,  48, 711])\n",
      "y_train.shape: torch.Size([32])\n",
      "tensor([[-0.1355,  0.0307,  0.1167,  ...,  0.3795, -0.5683,  0.0599],\n",
      "        [-0.5025, -0.1378,  0.2814,  ..., -0.1004, -0.1706, -0.0337],\n",
      "        [ 0.1066,  0.1576, -0.0388,  ...,  0.0728, -0.2583, -0.0981],\n",
      "        ...,\n",
      "        [ 0.0710, -0.0449,  0.1794,  ...,  0.2314, -0.0091,  0.1708],\n",
      "        [ 0.3176,  0.1635, -0.4617,  ...,  0.5358,  0.0276, -0.8092],\n",
      "        [-0.0467, -0.0413,  0.3160,  ...,  0.2642,  0.0287,  0.1391]],\n",
      "       grad_fn=<AddmmBackward0>)\n",
      "y_pred.shape: torch.Size([32, 902])\n",
      "tensor([ 32,  30, 610, 243, 421, 445, 234, 585, 127, 838, 511, 801, 429, 476,\n",
      "        766, 397, 222, 148, 494, 457,  88,  59, 694, 752, 100, 188,  23, 689,\n",
      "        289,  92,  71, 359])\n",
      "y_train.shape: torch.Size([32])\n",
      "tensor([[-0.2956,  0.3765,  0.0826,  ...,  0.0997, -0.4194, -0.1251],\n",
      "        [ 0.4634,  0.2099, -0.5628,  ...,  0.5766,  0.2470, -0.7976],\n",
      "        [ 0.5156,  0.5414, -0.8672,  ...,  0.5121, -0.2274, -1.0586],\n",
      "        ...,\n",
      "        [-0.4336,  0.0795,  0.3002,  ...,  0.0327, -0.2239, -0.2254],\n",
      "        [-0.5728,  0.1922,  0.0643,  ..., -0.1441, -0.6110, -0.6030],\n",
      "        [ 0.0330,  0.2001,  0.2808,  ...,  0.3436, -0.3911,  0.0394]],\n",
      "       grad_fn=<AddmmBackward0>)\n",
      "y_pred.shape: torch.Size([32, 902])\n",
      "tensor([577, 299,  23, 671,  23, 722, 840, 395, 690, 848, 382, 319, 369, 187,\n",
      "        765, 737, 600, 155, 274, 122, 237, 573, 345, 748, 353, 518,  89,  40,\n",
      "        581,  19, 191,  97])\n",
      "y_train.shape: torch.Size([32])\n",
      "tensor([[-0.4286, -0.0623, -0.0078,  ..., -0.1360, -0.3142, -0.2048],\n",
      "        [ 0.6197,  0.0776, -0.7717,  ...,  0.4835,  0.0791, -1.1758],\n",
      "        [ 0.1968, -0.0808,  0.2024,  ...,  0.1207, -0.2541,  0.0415],\n",
      "        ...,\n",
      "        [ 0.2047,  0.2559, -0.2873,  ...,  0.5282, -0.2722, -1.0433],\n",
      "        [ 0.4497,  0.1188, -0.4217,  ...,  0.6265,  0.0957, -0.3664],\n",
      "        [ 0.2259,  0.2502, -0.4181,  ...,  0.0915, -0.2746, -0.4849]],\n",
      "       grad_fn=<AddmmBackward0>)\n",
      "y_pred.shape: torch.Size([32, 902])\n",
      "tensor([264, 296, 284, 157, 576, 747, 558,  82, 635, 479,  74, 658, 762, 589,\n",
      "        335, 557, 120,  41, 461, 793, 485, 628, 377,  23, 454, 343, 121,  23,\n",
      "        260, 681, 149, 515])\n",
      "y_train.shape: torch.Size([32])\n",
      "tensor([[ 0.0737,  0.1603, -0.4346,  ...,  0.2442,  0.0735, -0.3614],\n",
      "        [ 0.2749,  0.4758, -1.2182,  ...,  0.3224, -0.3452, -1.3365],\n",
      "        [-0.0323,  0.2655,  0.1376,  ...,  0.4855, -0.2513, -0.2348],\n",
      "        ...,\n",
      "        [-0.2509,  0.2505, -0.2801,  ...,  0.0778, -0.6328, -0.0904],\n",
      "        [-0.1709,  0.2586, -0.5436,  ..., -0.0227, -0.4723, -0.9564],\n",
      "        [ 0.4612,  0.3902, -1.0373,  ...,  0.2391, -0.0982, -1.0172]],\n",
      "       grad_fn=<AddmmBackward0>)\n",
      "y_pred.shape: torch.Size([32, 902])\n",
      "tensor([550, 236, 658, 110, 458, 796, 614, 427,  23, 449, 768, 262, 831, 828,\n",
      "        764, 167, 329, 679, 719, 787, 141,  71, 787, 595, 792, 541,  78, 161,\n",
      "        471, 575,  14, 339])\n",
      "y_train.shape: torch.Size([32])\n",
      "tensor([[ 0.7733,  0.3686, -0.8391,  ...,  0.4066, -0.1648, -1.3866],\n",
      "        [-0.0334,  0.6471, -0.8036,  ...,  0.3186, -0.5536, -1.5605],\n",
      "        [ 0.1162,  0.3285, -0.4391,  ...,  0.3408, -0.2436, -1.1372],\n",
      "        ...,\n",
      "        [ 0.2924, -0.0400,  0.0920,  ...,  0.3577,  0.0160, -0.0586],\n",
      "        [ 0.1067,  0.1708, -0.2350,  ...,  0.1615,  0.0674, -0.1008],\n",
      "        [-0.1964,  0.2360,  0.2286,  ...,  0.3201,  0.2969,  0.1679]],\n",
      "       grad_fn=<AddmmBackward0>)\n",
      "y_pred.shape: torch.Size([32, 902])\n",
      "tensor([390,  45, 887, 642, 781,  11, 883, 340, 534, 870, 136, 219,  80,   3,\n",
      "        597,  26, 332, 542, 341,   5,  58, 530,  23, 196, 553, 814, 834, 507,\n",
      "        414, 470, 670, 552])\n",
      "y_train.shape: torch.Size([32])\n",
      "tensor([[ 0.3039,  0.2184, -0.7385,  ...,  0.2361, -0.4552, -0.8288],\n",
      "        [ 0.0841,  0.3528, -0.7625,  ...,  0.3889, -0.4346, -1.0473],\n",
      "        [ 0.0060,  0.5283,  0.0813,  ...,  0.3867, -0.3384, -0.4933],\n",
      "        ...,\n",
      "        [ 0.0800,  0.2166, -0.1655,  ...,  0.1808, -0.4053, -0.6140],\n",
      "        [-0.3932,  0.2980,  0.5044,  ...,  0.3270, -0.0327, -0.1154],\n",
      "        [ 0.3875,  0.2311, -0.6278,  ...,  0.4024,  0.1235, -1.0827]],\n",
      "       grad_fn=<AddmmBackward0>)\n",
      "y_pred.shape: torch.Size([32, 902])\n",
      "tensor([864,  23,  23, 214, 604, 120, 741, 517, 462, 624, 796,  63, 323, 901,\n",
      "        104, 732, 749, 747, 727, 114, 713,  17,  95, 114,   6, 406, 872, 603,\n",
      "        314, 893, 704, 465])\n",
      "y_train.shape: torch.Size([32])\n",
      "tensor([[ 0.3479, -0.2882, -0.5896,  ..., -0.1105, -0.1574, -0.4390],\n",
      "        [-0.0941,  0.3989, -0.0065,  ...,  0.4296, -0.5176, -0.2847],\n",
      "        [-0.3083,  0.0180,  0.1138,  ..., -0.1561, -0.7556, -0.1192],\n",
      "        ...,\n",
      "        [ 0.5240,  0.3838, -1.1087,  ...,  0.2316, -0.3392, -1.3024],\n",
      "        [ 0.7335,  0.2254, -1.1579,  ...,  0.4506, -0.0755, -1.3562],\n",
      "        [-0.1369,  0.1070, -0.3261,  ...,  0.0848, -0.5286, -0.3483]],\n",
      "       grad_fn=<AddmmBackward0>)\n",
      "y_pred.shape: torch.Size([32, 902])\n",
      "tensor([ 80,  23, 786, 396, 777, 609, 155, 710, 567, 613, 118, 300, 738, 682,\n",
      "        701, 313, 537, 629, 869, 419, 224,  72, 155, 388, 263, 787, 385,   2,\n",
      "        266, 742, 800,  81])\n",
      "y_train.shape: torch.Size([32])\n",
      "tensor([[ 0.1088,  0.1368, -0.7672,  ...,  0.0443, -0.6646, -0.7168],\n",
      "        [ 0.1951,  0.4904, -0.7059,  ...,  0.4451, -0.7898, -0.8088],\n",
      "        [ 0.0922,  0.0888, -0.0685,  ...,  0.2898, -0.1621, -0.0576],\n",
      "        ...,\n",
      "        [ 0.3596,  0.1834, -0.1094,  ...,  0.2966,  0.2996, -0.4315],\n",
      "        [-0.1802,  0.2740,  0.5191,  ...,  0.2421,  0.0271,  0.1563],\n",
      "        [ 0.3095,  0.5450, -1.3990,  ...,  0.0967, -0.3937, -1.3306]],\n",
      "       grad_fn=<AddmmBackward0>)\n",
      "y_pred.shape: torch.Size([32, 902])\n",
      "tensor([735, 559, 124, 506, 393, 606, 841, 529, 666, 478, 363,  57, 807,  34,\n",
      "        725, 163,  80, 400, 192, 139, 434,  87, 220, 245, 754, 402, 723, 539,\n",
      "        686, 803, 261, 340])\n",
      "y_train.shape: torch.Size([32])\n",
      "tensor([[ 0.8924,  0.5234, -1.5599,  ...,  0.5525, -0.3119, -1.9062],\n",
      "        [-0.2224,  0.4679,  0.6507,  ...,  0.2420, -0.2087,  0.4370],\n",
      "        [-0.2050,  0.1734, -0.4699,  ...,  0.1592, -0.4002, -0.8805],\n",
      "        ...,\n",
      "        [-0.1153, -0.1689,  0.1800,  ...,  0.2493,  0.1217, -0.8403],\n",
      "        [-0.4124,  0.1221,  0.1060,  ..., -0.1620, -0.7930, -0.0583],\n",
      "        [ 0.4994,  0.1615, -0.8795,  ...,  0.3497, -0.4786, -1.2909]],\n",
      "       grad_fn=<AddmmBackward0>)\n",
      "y_pred.shape: torch.Size([32, 902])\n",
      "tensor([230, 522, 560, 486,  46, 116, 456, 702,  86, 779, 126, 514, 856, 166,\n",
      "        178, 858, 408, 759, 850, 188, 381, 446,  58, 253, 396, 387, 752, 633,\n",
      "        756, 718, 785, 185])\n",
      "y_train.shape: torch.Size([32])\n",
      "tensor([[-0.4037,  0.0300,  0.3593,  ..., -0.0042, -0.4014,  0.3438],\n",
      "        [ 0.2743,  0.6556, -1.5865,  ...,  0.2029, -0.7803, -1.8261],\n",
      "        [-0.3351, -0.0891,  0.5090,  ...,  0.2451, -0.1948,  0.1996],\n",
      "        ...,\n",
      "        [ 0.6221,  0.2086, -0.6242,  ...,  0.4524, -0.2004, -0.9275],\n",
      "        [ 0.1765,  0.1089, -0.4700,  ...,  0.0998, -0.4932, -0.4863],\n",
      "        [ 0.0132,  0.2031, -0.7056,  ...,  0.1569, -0.1867, -0.9982]],\n",
      "       grad_fn=<AddmmBackward0>)\n",
      "y_pred.shape: torch.Size([18, 902])\n",
      "tensor([579, 235, 590, 631, 794, 189, 898, 457, 347, 802, 812,  23, 857, 500,\n",
      "         14, 708,   5, 495])\n",
      "y_train.shape: torch.Size([18])\n",
      "Epoch 0 | loss: 206.53270196914673\n"
     ]
    },
    {
     "name": "stderr",
     "output_type": "stream",
     "text": [
      "\n"
     ]
    },
    {
     "data": {
      "text/plain": [
       "[206.53270196914673]"
      ]
     },
     "execution_count": 107,
     "metadata": {},
     "output_type": "execute_result"
    }
   ],
   "source": [
    "import torch.nn as nn\n",
    "import torch.optim as optim\n",
    "from tqdm import tqdm\n",
    "\n",
    "class CBOWModel(nn.Module):\n",
    "    def __init__(self, vocab_size, embedding_dim):\n",
    "        super(CBOWModel, self).__init__()\n",
    "        self.embeddings = nn.Embedding(vocab_size, embedding_dim)\n",
    "        self.linear = nn.Linear(embedding_dim, vocab_size)\n",
    "\n",
    "    def forward(self, context):\n",
    "        embedded = self.embeddings(context)\n",
    "        embedded = embedded.mean(dim=1)\n",
    "        out = self.linear(embedded)\n",
    "        return out\n",
    "\n",
    "\n",
    "def train_model(model: nn.Module, train_loader: DataLoader, test_loader: DataLoader, epochs: int, learning_rate: float):\n",
    "    \n",
    "    optimizer = optim.Adam(model.parameters(), lr=learning_rate)\n",
    "    loss_function = nn.CrossEntropyLoss()\n",
    "    losses = []\n",
    "\n",
    "    for epoch in tqdm(range(epochs), desc=\"Training\", total=epochs):\n",
    "        total_loss = 0\n",
    "        model.train()\n",
    "        for X_train, y_train in train_loader:\n",
    "            y_pred = model(X_train)\n",
    "            print(y_pred)\n",
    "            print(f\"y_pred.shape: {y_pred.shape}\")\n",
    "            print(y_train)\n",
    "            print(f\"y_train.shape: {y_train.shape}\")\n",
    "            loss = loss_function(y_pred, y_train)\n",
    "            optimizer.zero_grad()\n",
    "            loss.backward()\n",
    "            optimizer.step()\n",
    "            total_loss += loss.item()\n",
    "            \n",
    "        losses.append(total_loss)\n",
    "\n",
    "        if epoch % 10 == 0:\n",
    "            print(f\"Epoch {epoch} | loss: {total_loss}\")\n",
    "\n",
    "    return losses\n",
    "\n",
    "train_loader, test_loader, vocab_size = create_dataset(corpus[:100], 32)\n",
    "print(vocab_size)\n",
    "embedding_dim = 10\n",
    "model = CBOWModel(vocab_size=vocab_size, embedding_dim=embedding_dim)\n",
    "losses = train_model(model, train_loader, test_loader, epochs=1, learning_rate=0.01)\n",
    "losses"
   ]
  },
  {
   "cell_type": "code",
   "execution_count": null,
   "metadata": {},
   "outputs": [
    {
     "data": {
      "application/vnd.plotly.v1+json": {
       "config": {
        "plotlyServerURL": "https://plot.ly"
       },
       "data": [
        {
         "hovertemplate": "x=%{x}<br>y=%{y}<extra></extra>",
         "legendgroup": "",
         "line": {
          "color": "#636efa",
          "dash": "solid"
         },
         "marker": {
          "symbol": "circle"
         },
         "mode": "lines",
         "name": "",
         "orientation": "v",
         "showlegend": false,
         "type": "scatter",
         "x": [
          0,
          1,
          2,
          3,
          4,
          5,
          6,
          7,
          8,
          9,
          10,
          11,
          12,
          13,
          14,
          15,
          16,
          17,
          18,
          19,
          20,
          21,
          22,
          23,
          24,
          25,
          26,
          27,
          28,
          29,
          30,
          31,
          32,
          33,
          34,
          35,
          36,
          37,
          38,
          39,
          40,
          41,
          42,
          43,
          44,
          45,
          46,
          47,
          48,
          49,
          50,
          51,
          52,
          53,
          54,
          55,
          56,
          57,
          58,
          59,
          60,
          61,
          62,
          63,
          64,
          65,
          66,
          67,
          68,
          69,
          70,
          71,
          72,
          73,
          74,
          75,
          76,
          77,
          78,
          79,
          80,
          81,
          82,
          83,
          84,
          85,
          86,
          87,
          88,
          89,
          90,
          91,
          92,
          93,
          94,
          95,
          96,
          97,
          98,
          99
         ],
         "xaxis": "x",
         "y": [
          24286.91112089157,
          20462.05282354355,
          18582.43108844757,
          17384.524844646454,
          16569.497720718384,
          15980.538463115692,
          15523.972493648529,
          15153.373440742493,
          14851.796603441238,
          14594.235888004303,
          14363.418764829636,
          14169.209383964539,
          13988.903187513351,
          13833.431675195694,
          13688.063024520874,
          13560.42211508751,
          13432.490745544434,
          13319.580278873444,
          13219.273385047913,
          13125.90072107315,
          13034.381912946701,
          12957.603005170822,
          12873.43459057808,
          12801.934742927551,
          12731.758039236069,
          12675.055245637894,
          12609.702208518982,
          12552.477380514145,
          12501.21072769165,
          12446.884008407593,
          12402.050365686417,
          12345.07929778099,
          12304.645603179932,
          12267.327955245972,
          12212.745870828629,
          12179.800250291824,
          12138.235825538635,
          12109.13677072525,
          12074.626090288162,
          12035.879257678986,
          11999.207984924316,
          11977.155606031418,
          11947.124598026276,
          11923.4918050766,
          11886.72445511818,
          11868.760699748993,
          11837.467387199402,
          11810.12857246399,
          11782.036265611649,
          11765.949030637741,
          11741.835553407669,
          11725.179379701614,
          11702.14192700386,
          11673.627687215805,
          11653.407238006592,
          11634.068863391876,
          11617.355675697327,
          11593.823006868362,
          11577.514201402664,
          11562.092422962189,
          11539.37965130806,
          11520.40397143364,
          11504.35558962822,
          11482.980927944183,
          11482.019993066788,
          11458.100533008575,
          11455.674608945847,
          11423.748958349228,
          11414.546547412872,
          11400.998286008835,
          11390.814889431,
          11372.974025964737,
          11364.93279838562,
          11339.87277507782,
          11338.392869472504,
          11311.520889997482,
          11313.513085126877,
          11293.626198768616,
          11288.566049575806,
          11275.64070558548,
          11268.628680944443,
          11252.484228134155,
          11250.694004297256,
          11225.652079105377,
          11230.82797551155,
          11206.602335453033,
          11199.276279449463,
          11184.568527936935,
          11185.072533369064,
          11176.381243467331,
          11144.672419071198,
          11157.785135746002,
          11139.963737726212,
          11141.152243852615,
          11123.036214351654,
          11114.278228282928,
          11110.034223556519,
          11097.587070465088,
          11089.959752321243,
          11085.406791448593
         ],
         "yaxis": "y"
        }
       ],
       "layout": {
        "legend": {
         "tracegroupgap": 0
        },
        "template": {
         "data": {
          "bar": [
           {
            "error_x": {
             "color": "#2a3f5f"
            },
            "error_y": {
             "color": "#2a3f5f"
            },
            "marker": {
             "line": {
              "color": "#E5ECF6",
              "width": 0.5
             },
             "pattern": {
              "fillmode": "overlay",
              "size": 10,
              "solidity": 0.2
             }
            },
            "type": "bar"
           }
          ],
          "barpolar": [
           {
            "marker": {
             "line": {
              "color": "#E5ECF6",
              "width": 0.5
             },
             "pattern": {
              "fillmode": "overlay",
              "size": 10,
              "solidity": 0.2
             }
            },
            "type": "barpolar"
           }
          ],
          "carpet": [
           {
            "aaxis": {
             "endlinecolor": "#2a3f5f",
             "gridcolor": "white",
             "linecolor": "white",
             "minorgridcolor": "white",
             "startlinecolor": "#2a3f5f"
            },
            "baxis": {
             "endlinecolor": "#2a3f5f",
             "gridcolor": "white",
             "linecolor": "white",
             "minorgridcolor": "white",
             "startlinecolor": "#2a3f5f"
            },
            "type": "carpet"
           }
          ],
          "choropleth": [
           {
            "colorbar": {
             "outlinewidth": 0,
             "ticks": ""
            },
            "type": "choropleth"
           }
          ],
          "contour": [
           {
            "colorbar": {
             "outlinewidth": 0,
             "ticks": ""
            },
            "colorscale": [
             [
              0,
              "#0d0887"
             ],
             [
              0.1111111111111111,
              "#46039f"
             ],
             [
              0.2222222222222222,
              "#7201a8"
             ],
             [
              0.3333333333333333,
              "#9c179e"
             ],
             [
              0.4444444444444444,
              "#bd3786"
             ],
             [
              0.5555555555555556,
              "#d8576b"
             ],
             [
              0.6666666666666666,
              "#ed7953"
             ],
             [
              0.7777777777777778,
              "#fb9f3a"
             ],
             [
              0.8888888888888888,
              "#fdca26"
             ],
             [
              1,
              "#f0f921"
             ]
            ],
            "type": "contour"
           }
          ],
          "contourcarpet": [
           {
            "colorbar": {
             "outlinewidth": 0,
             "ticks": ""
            },
            "type": "contourcarpet"
           }
          ],
          "heatmap": [
           {
            "colorbar": {
             "outlinewidth": 0,
             "ticks": ""
            },
            "colorscale": [
             [
              0,
              "#0d0887"
             ],
             [
              0.1111111111111111,
              "#46039f"
             ],
             [
              0.2222222222222222,
              "#7201a8"
             ],
             [
              0.3333333333333333,
              "#9c179e"
             ],
             [
              0.4444444444444444,
              "#bd3786"
             ],
             [
              0.5555555555555556,
              "#d8576b"
             ],
             [
              0.6666666666666666,
              "#ed7953"
             ],
             [
              0.7777777777777778,
              "#fb9f3a"
             ],
             [
              0.8888888888888888,
              "#fdca26"
             ],
             [
              1,
              "#f0f921"
             ]
            ],
            "type": "heatmap"
           }
          ],
          "heatmapgl": [
           {
            "colorbar": {
             "outlinewidth": 0,
             "ticks": ""
            },
            "colorscale": [
             [
              0,
              "#0d0887"
             ],
             [
              0.1111111111111111,
              "#46039f"
             ],
             [
              0.2222222222222222,
              "#7201a8"
             ],
             [
              0.3333333333333333,
              "#9c179e"
             ],
             [
              0.4444444444444444,
              "#bd3786"
             ],
             [
              0.5555555555555556,
              "#d8576b"
             ],
             [
              0.6666666666666666,
              "#ed7953"
             ],
             [
              0.7777777777777778,
              "#fb9f3a"
             ],
             [
              0.8888888888888888,
              "#fdca26"
             ],
             [
              1,
              "#f0f921"
             ]
            ],
            "type": "heatmapgl"
           }
          ],
          "histogram": [
           {
            "marker": {
             "pattern": {
              "fillmode": "overlay",
              "size": 10,
              "solidity": 0.2
             }
            },
            "type": "histogram"
           }
          ],
          "histogram2d": [
           {
            "colorbar": {
             "outlinewidth": 0,
             "ticks": ""
            },
            "colorscale": [
             [
              0,
              "#0d0887"
             ],
             [
              0.1111111111111111,
              "#46039f"
             ],
             [
              0.2222222222222222,
              "#7201a8"
             ],
             [
              0.3333333333333333,
              "#9c179e"
             ],
             [
              0.4444444444444444,
              "#bd3786"
             ],
             [
              0.5555555555555556,
              "#d8576b"
             ],
             [
              0.6666666666666666,
              "#ed7953"
             ],
             [
              0.7777777777777778,
              "#fb9f3a"
             ],
             [
              0.8888888888888888,
              "#fdca26"
             ],
             [
              1,
              "#f0f921"
             ]
            ],
            "type": "histogram2d"
           }
          ],
          "histogram2dcontour": [
           {
            "colorbar": {
             "outlinewidth": 0,
             "ticks": ""
            },
            "colorscale": [
             [
              0,
              "#0d0887"
             ],
             [
              0.1111111111111111,
              "#46039f"
             ],
             [
              0.2222222222222222,
              "#7201a8"
             ],
             [
              0.3333333333333333,
              "#9c179e"
             ],
             [
              0.4444444444444444,
              "#bd3786"
             ],
             [
              0.5555555555555556,
              "#d8576b"
             ],
             [
              0.6666666666666666,
              "#ed7953"
             ],
             [
              0.7777777777777778,
              "#fb9f3a"
             ],
             [
              0.8888888888888888,
              "#fdca26"
             ],
             [
              1,
              "#f0f921"
             ]
            ],
            "type": "histogram2dcontour"
           }
          ],
          "mesh3d": [
           {
            "colorbar": {
             "outlinewidth": 0,
             "ticks": ""
            },
            "type": "mesh3d"
           }
          ],
          "parcoords": [
           {
            "line": {
             "colorbar": {
              "outlinewidth": 0,
              "ticks": ""
             }
            },
            "type": "parcoords"
           }
          ],
          "pie": [
           {
            "automargin": true,
            "type": "pie"
           }
          ],
          "scatter": [
           {
            "fillpattern": {
             "fillmode": "overlay",
             "size": 10,
             "solidity": 0.2
            },
            "type": "scatter"
           }
          ],
          "scatter3d": [
           {
            "line": {
             "colorbar": {
              "outlinewidth": 0,
              "ticks": ""
             }
            },
            "marker": {
             "colorbar": {
              "outlinewidth": 0,
              "ticks": ""
             }
            },
            "type": "scatter3d"
           }
          ],
          "scattercarpet": [
           {
            "marker": {
             "colorbar": {
              "outlinewidth": 0,
              "ticks": ""
             }
            },
            "type": "scattercarpet"
           }
          ],
          "scattergeo": [
           {
            "marker": {
             "colorbar": {
              "outlinewidth": 0,
              "ticks": ""
             }
            },
            "type": "scattergeo"
           }
          ],
          "scattergl": [
           {
            "marker": {
             "colorbar": {
              "outlinewidth": 0,
              "ticks": ""
             }
            },
            "type": "scattergl"
           }
          ],
          "scattermapbox": [
           {
            "marker": {
             "colorbar": {
              "outlinewidth": 0,
              "ticks": ""
             }
            },
            "type": "scattermapbox"
           }
          ],
          "scatterpolar": [
           {
            "marker": {
             "colorbar": {
              "outlinewidth": 0,
              "ticks": ""
             }
            },
            "type": "scatterpolar"
           }
          ],
          "scatterpolargl": [
           {
            "marker": {
             "colorbar": {
              "outlinewidth": 0,
              "ticks": ""
             }
            },
            "type": "scatterpolargl"
           }
          ],
          "scatterternary": [
           {
            "marker": {
             "colorbar": {
              "outlinewidth": 0,
              "ticks": ""
             }
            },
            "type": "scatterternary"
           }
          ],
          "surface": [
           {
            "colorbar": {
             "outlinewidth": 0,
             "ticks": ""
            },
            "colorscale": [
             [
              0,
              "#0d0887"
             ],
             [
              0.1111111111111111,
              "#46039f"
             ],
             [
              0.2222222222222222,
              "#7201a8"
             ],
             [
              0.3333333333333333,
              "#9c179e"
             ],
             [
              0.4444444444444444,
              "#bd3786"
             ],
             [
              0.5555555555555556,
              "#d8576b"
             ],
             [
              0.6666666666666666,
              "#ed7953"
             ],
             [
              0.7777777777777778,
              "#fb9f3a"
             ],
             [
              0.8888888888888888,
              "#fdca26"
             ],
             [
              1,
              "#f0f921"
             ]
            ],
            "type": "surface"
           }
          ],
          "table": [
           {
            "cells": {
             "fill": {
              "color": "#EBF0F8"
             },
             "line": {
              "color": "white"
             }
            },
            "header": {
             "fill": {
              "color": "#C8D4E3"
             },
             "line": {
              "color": "white"
             }
            },
            "type": "table"
           }
          ]
         },
         "layout": {
          "annotationdefaults": {
           "arrowcolor": "#2a3f5f",
           "arrowhead": 0,
           "arrowwidth": 1
          },
          "autotypenumbers": "strict",
          "coloraxis": {
           "colorbar": {
            "outlinewidth": 0,
            "ticks": ""
           }
          },
          "colorscale": {
           "diverging": [
            [
             0,
             "#8e0152"
            ],
            [
             0.1,
             "#c51b7d"
            ],
            [
             0.2,
             "#de77ae"
            ],
            [
             0.3,
             "#f1b6da"
            ],
            [
             0.4,
             "#fde0ef"
            ],
            [
             0.5,
             "#f7f7f7"
            ],
            [
             0.6,
             "#e6f5d0"
            ],
            [
             0.7,
             "#b8e186"
            ],
            [
             0.8,
             "#7fbc41"
            ],
            [
             0.9,
             "#4d9221"
            ],
            [
             1,
             "#276419"
            ]
           ],
           "sequential": [
            [
             0,
             "#0d0887"
            ],
            [
             0.1111111111111111,
             "#46039f"
            ],
            [
             0.2222222222222222,
             "#7201a8"
            ],
            [
             0.3333333333333333,
             "#9c179e"
            ],
            [
             0.4444444444444444,
             "#bd3786"
            ],
            [
             0.5555555555555556,
             "#d8576b"
            ],
            [
             0.6666666666666666,
             "#ed7953"
            ],
            [
             0.7777777777777778,
             "#fb9f3a"
            ],
            [
             0.8888888888888888,
             "#fdca26"
            ],
            [
             1,
             "#f0f921"
            ]
           ],
           "sequentialminus": [
            [
             0,
             "#0d0887"
            ],
            [
             0.1111111111111111,
             "#46039f"
            ],
            [
             0.2222222222222222,
             "#7201a8"
            ],
            [
             0.3333333333333333,
             "#9c179e"
            ],
            [
             0.4444444444444444,
             "#bd3786"
            ],
            [
             0.5555555555555556,
             "#d8576b"
            ],
            [
             0.6666666666666666,
             "#ed7953"
            ],
            [
             0.7777777777777778,
             "#fb9f3a"
            ],
            [
             0.8888888888888888,
             "#fdca26"
            ],
            [
             1,
             "#f0f921"
            ]
           ]
          },
          "colorway": [
           "#636efa",
           "#EF553B",
           "#00cc96",
           "#ab63fa",
           "#FFA15A",
           "#19d3f3",
           "#FF6692",
           "#B6E880",
           "#FF97FF",
           "#FECB52"
          ],
          "font": {
           "color": "#2a3f5f"
          },
          "geo": {
           "bgcolor": "white",
           "lakecolor": "white",
           "landcolor": "#E5ECF6",
           "showlakes": true,
           "showland": true,
           "subunitcolor": "white"
          },
          "hoverlabel": {
           "align": "left"
          },
          "hovermode": "closest",
          "mapbox": {
           "style": "light"
          },
          "paper_bgcolor": "white",
          "plot_bgcolor": "#E5ECF6",
          "polar": {
           "angularaxis": {
            "gridcolor": "white",
            "linecolor": "white",
            "ticks": ""
           },
           "bgcolor": "#E5ECF6",
           "radialaxis": {
            "gridcolor": "white",
            "linecolor": "white",
            "ticks": ""
           }
          },
          "scene": {
           "xaxis": {
            "backgroundcolor": "#E5ECF6",
            "gridcolor": "white",
            "gridwidth": 2,
            "linecolor": "white",
            "showbackground": true,
            "ticks": "",
            "zerolinecolor": "white"
           },
           "yaxis": {
            "backgroundcolor": "#E5ECF6",
            "gridcolor": "white",
            "gridwidth": 2,
            "linecolor": "white",
            "showbackground": true,
            "ticks": "",
            "zerolinecolor": "white"
           },
           "zaxis": {
            "backgroundcolor": "#E5ECF6",
            "gridcolor": "white",
            "gridwidth": 2,
            "linecolor": "white",
            "showbackground": true,
            "ticks": "",
            "zerolinecolor": "white"
           }
          },
          "shapedefaults": {
           "line": {
            "color": "#2a3f5f"
           }
          },
          "ternary": {
           "aaxis": {
            "gridcolor": "white",
            "linecolor": "white",
            "ticks": ""
           },
           "baxis": {
            "gridcolor": "white",
            "linecolor": "white",
            "ticks": ""
           },
           "bgcolor": "#E5ECF6",
           "caxis": {
            "gridcolor": "white",
            "linecolor": "white",
            "ticks": ""
           }
          },
          "title": {
           "x": 0.05
          },
          "xaxis": {
           "automargin": true,
           "gridcolor": "white",
           "linecolor": "white",
           "ticks": "",
           "title": {
            "standoff": 15
           },
           "zerolinecolor": "white",
           "zerolinewidth": 2
          },
          "yaxis": {
           "automargin": true,
           "gridcolor": "white",
           "linecolor": "white",
           "ticks": "",
           "title": {
            "standoff": 15
           },
           "zerolinecolor": "white",
           "zerolinewidth": 2
          }
         }
        },
        "title": {
         "text": "Loss Curve"
        },
        "xaxis": {
         "anchor": "y",
         "domain": [
          0,
          1
         ],
         "title": {
          "text": "x"
         }
        },
        "yaxis": {
         "anchor": "x",
         "domain": [
          0,
          1
         ],
         "title": {
          "text": "y"
         }
        }
       }
      }
     },
     "metadata": {},
     "output_type": "display_data"
    }
   ],
   "source": [
    "import plotly.express as px\n",
    "import plotly.graph_objects as go\n",
    "\n",
    "def loss_curve(losses: list[float]):\n",
    "    fig = px.line(x=range(len(losses)), y=losses, title='Loss Curve')\n",
    "    fig.show()\n",
    "\n",
    "loss_curve(losses)\n"
   ]
  }
 ],
 "metadata": {
  "kernelspec": {
   "display_name": ".venv",
   "language": "python",
   "name": "python3"
  },
  "language_info": {
   "codemirror_mode": {
    "name": "ipython",
    "version": 3
   },
   "file_extension": ".py",
   "mimetype": "text/x-python",
   "name": "python",
   "nbconvert_exporter": "python",
   "pygments_lexer": "ipython3",
   "version": "3.12.8"
  }
 },
 "nbformat": 4,
 "nbformat_minor": 2
}
