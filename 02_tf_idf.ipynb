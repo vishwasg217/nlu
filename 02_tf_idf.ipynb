{
 "cells": [
  {
   "cell_type": "markdown",
   "metadata": {},
   "source": [
    "# TF - IDF (Term Frequency - Inverse Document Frequency)\n",
    "\n",
    "## Goal of TF IDF\n",
    "### Characterisistics of terms with high TF-IDF score:\n",
    "- High frequency within a document (TF)\n",
    "- Unique to few documents (IDF)\n",
    "\n",
    "### Why is this useful?\n",
    "This is useful from a search POV because it helps identify words that are important to a document. For example, if you're searching for a document about the python programming language, you'd expect the words \"python\" and \"programming\" to appear frequently. By calculating the TF-IDF score, we can identify words that are important to a document while filtering out common words like \"the\", \"is\", \"and\", etc. that appear in many documents.\n",
    "\n",
    "## Term Frequency\n",
    "This measures how often a word appears in a document. Words that appear more frequently in a document are likely important for that document.\n",
    "\n",
    "## Inverse Document Frequency\n",
    "Inverse Document Frequency (IDF): This measures how unique or rare a word is across the entire corpus. If a word appears in many documents, it's less helpful in distinguishing one document from another (e.g., \"the\"). On the other hand, if a word appears in just a few documents, it's more distinctive.\n",
    "\n",
    "## Combining TF and IDF\n",
    "\n",
    "$$ TF-IDF = TF * IDF $$\n",
    "\n",
    "High TF-IDF: The word is frequent in the document but rare in the corpus (important and unique).\n",
    "\n",
    "Low TF-IDF: The word is either common across the corpus or not frequent in the document (less important).\n"
   ]
  },
  {
   "cell_type": "markdown",
   "metadata": {},
   "source": [
    "\n",
    "## Mathematical formula\n",
    "\n",
    "$$\n",
    "\\text{TF-IDF}(t, d, D) = \\text{TF}(t, d) \\times \\text{IDF}(t, D)\n",
    "$$\n",
    "\n",
    "Where:\n",
    "\n",
    "### Term Frequency (TF):\n",
    "$$\n",
    "\\text{TF}(t, d) = \\frac{f_{t, d}}{\\sum_{t' \\in d} f_{t', d}}\n",
    "$$\n",
    "\n",
    "- $f_{t, d}$: The frequency of term $t$ in document $d$.\n",
    "- $\\sum_{t' \\in d} f_{t', d}$: The total number of terms in document $d$.\n",
    "\n",
    "### Inverse Document Frequency (IDF):\n",
    "$$\n",
    "\\text{IDF}(t, D) = \\log \\left( \\frac{|D|}{1 + |d \\in D : t \\in d|} \\right)\n",
    "$$\n",
    "\n",
    "- $|D|$: The total number of documents in the collection $D$.\n",
    "- $|d \\in D : t \\in d|$: The number of documents in which the term $t$ appears. \n",
    "- $1$: Added to avoid division by zero in case $t$ does not appear in any document.\n",
    "\n",
    "---\n",
    "\n",
    "### Explanation:\n",
    "1. **Where $t$ is the term**:\n",
    "   - A single word or token for which the TF-IDF score is being calculated.\n",
    "2. **Where $d$ is the document**:\n",
    "   - A specific document from the corpus $D$ where the term $t$ is being considered.\n",
    "3. **Where $D$ is the corpus**:\n",
    "   - The entire collection of documents.\n",
    "4. **Where $f_{t, d}$ is the term frequency**:\n",
    "   - The raw count of term $t$ in document $d$.\n",
    "5. **Where $\\log$ is the logarithm function**:\n",
    "   - Used to scale down the effect of IDF when a term appears in many documents.\n",
    "\n",
    "Let me know if you'd like further explanation or examples!\n"
   ]
  },
  {
   "cell_type": "code",
   "execution_count": 7,
   "metadata": {},
   "outputs": [
    {
     "name": "stdout",
     "output_type": "stream",
     "text": [
      "Vocab: {'banana': 0, 'apple': 1, 'mango': 2, 'cherry': 3, 'grapes': 4, 'berries': 5, 'blueberries': 6, 'strawberries': 7}\n",
      "Document Frequency: {'banana': 5, 'apple': 6, 'mango': 4, 'cherry': 3, 'grapes': 2, 'berries': 1, 'blueberries': 3, 'strawberries': 3}\n",
      "IDF: {'banana': 1.2237754316221157, 'apple': 1.0986122886681098, 'mango': 1.3862943611198906, 'cherry': 1.6094379124341003, 'grapes': 1.9459101490553132, 'berries': 2.5649493574615367, 'blueberries': 1.6094379124341003, 'strawberries': 1.6094379124341003}\n",
      "Result:\n"
     ]
    },
    {
     "data": {
      "text/html": [
       "<div>\n",
       "<style scoped>\n",
       "    .dataframe tbody tr th:only-of-type {\n",
       "        vertical-align: middle;\n",
       "    }\n",
       "\n",
       "    .dataframe tbody tr th {\n",
       "        vertical-align: top;\n",
       "    }\n",
       "\n",
       "    .dataframe thead th {\n",
       "        text-align: right;\n",
       "    }\n",
       "</style>\n",
       "<table border=\"1\" class=\"dataframe\">\n",
       "  <thead>\n",
       "    <tr style=\"text-align: right;\">\n",
       "      <th></th>\n",
       "      <th>banana</th>\n",
       "      <th>apple</th>\n",
       "      <th>mango</th>\n",
       "      <th>cherry</th>\n",
       "      <th>grapes</th>\n",
       "      <th>berries</th>\n",
       "      <th>blueberries</th>\n",
       "      <th>strawberries</th>\n",
       "    </tr>\n",
       "  </thead>\n",
       "  <tbody>\n",
       "    <tr>\n",
       "      <th>0</th>\n",
       "      <td>1.223775</td>\n",
       "      <td>2.197225</td>\n",
       "      <td>0.000000</td>\n",
       "      <td>0.000000</td>\n",
       "      <td>0.00000</td>\n",
       "      <td>0.000000</td>\n",
       "      <td>0.000000</td>\n",
       "      <td>0.000000</td>\n",
       "    </tr>\n",
       "    <tr>\n",
       "      <th>1</th>\n",
       "      <td>2.447551</td>\n",
       "      <td>0.000000</td>\n",
       "      <td>1.386294</td>\n",
       "      <td>0.000000</td>\n",
       "      <td>0.00000</td>\n",
       "      <td>0.000000</td>\n",
       "      <td>0.000000</td>\n",
       "      <td>0.000000</td>\n",
       "    </tr>\n",
       "    <tr>\n",
       "      <th>2</th>\n",
       "      <td>0.000000</td>\n",
       "      <td>0.000000</td>\n",
       "      <td>0.000000</td>\n",
       "      <td>4.828314</td>\n",
       "      <td>0.00000</td>\n",
       "      <td>0.000000</td>\n",
       "      <td>0.000000</td>\n",
       "      <td>0.000000</td>\n",
       "    </tr>\n",
       "    <tr>\n",
       "      <th>3</th>\n",
       "      <td>0.000000</td>\n",
       "      <td>0.000000</td>\n",
       "      <td>0.000000</td>\n",
       "      <td>0.000000</td>\n",
       "      <td>5.83773</td>\n",
       "      <td>2.564949</td>\n",
       "      <td>0.000000</td>\n",
       "      <td>0.000000</td>\n",
       "    </tr>\n",
       "    <tr>\n",
       "      <th>4</th>\n",
       "      <td>1.223775</td>\n",
       "      <td>1.098612</td>\n",
       "      <td>1.386294</td>\n",
       "      <td>0.000000</td>\n",
       "      <td>0.00000</td>\n",
       "      <td>0.000000</td>\n",
       "      <td>0.000000</td>\n",
       "      <td>0.000000</td>\n",
       "    </tr>\n",
       "    <tr>\n",
       "      <th>5</th>\n",
       "      <td>0.000000</td>\n",
       "      <td>1.098612</td>\n",
       "      <td>0.000000</td>\n",
       "      <td>0.000000</td>\n",
       "      <td>0.00000</td>\n",
       "      <td>0.000000</td>\n",
       "      <td>1.609438</td>\n",
       "      <td>1.609438</td>\n",
       "    </tr>\n",
       "    <tr>\n",
       "      <th>6</th>\n",
       "      <td>1.223775</td>\n",
       "      <td>1.098612</td>\n",
       "      <td>1.386294</td>\n",
       "      <td>0.000000</td>\n",
       "      <td>0.00000</td>\n",
       "      <td>0.000000</td>\n",
       "      <td>0.000000</td>\n",
       "      <td>0.000000</td>\n",
       "    </tr>\n",
       "    <tr>\n",
       "      <th>7</th>\n",
       "      <td>0.000000</td>\n",
       "      <td>0.000000</td>\n",
       "      <td>0.000000</td>\n",
       "      <td>0.000000</td>\n",
       "      <td>5.83773</td>\n",
       "      <td>0.000000</td>\n",
       "      <td>0.000000</td>\n",
       "      <td>0.000000</td>\n",
       "    </tr>\n",
       "    <tr>\n",
       "      <th>8</th>\n",
       "      <td>0.000000</td>\n",
       "      <td>1.098612</td>\n",
       "      <td>0.000000</td>\n",
       "      <td>0.000000</td>\n",
       "      <td>0.00000</td>\n",
       "      <td>0.000000</td>\n",
       "      <td>1.609438</td>\n",
       "      <td>1.609438</td>\n",
       "    </tr>\n",
       "    <tr>\n",
       "      <th>9</th>\n",
       "      <td>1.223775</td>\n",
       "      <td>2.197225</td>\n",
       "      <td>0.000000</td>\n",
       "      <td>0.000000</td>\n",
       "      <td>0.00000</td>\n",
       "      <td>0.000000</td>\n",
       "      <td>0.000000</td>\n",
       "      <td>0.000000</td>\n",
       "    </tr>\n",
       "    <tr>\n",
       "      <th>10</th>\n",
       "      <td>0.000000</td>\n",
       "      <td>0.000000</td>\n",
       "      <td>1.386294</td>\n",
       "      <td>4.828314</td>\n",
       "      <td>0.00000</td>\n",
       "      <td>0.000000</td>\n",
       "      <td>0.000000</td>\n",
       "      <td>0.000000</td>\n",
       "    </tr>\n",
       "    <tr>\n",
       "      <th>11</th>\n",
       "      <td>0.000000</td>\n",
       "      <td>0.000000</td>\n",
       "      <td>0.000000</td>\n",
       "      <td>1.609438</td>\n",
       "      <td>0.00000</td>\n",
       "      <td>0.000000</td>\n",
       "      <td>1.609438</td>\n",
       "      <td>1.609438</td>\n",
       "    </tr>\n",
       "  </tbody>\n",
       "</table>\n",
       "</div>"
      ],
      "text/plain": [
       "      banana     apple     mango    cherry   grapes   berries  blueberries  \\\n",
       "0   1.223775  2.197225  0.000000  0.000000  0.00000  0.000000     0.000000   \n",
       "1   2.447551  0.000000  1.386294  0.000000  0.00000  0.000000     0.000000   \n",
       "2   0.000000  0.000000  0.000000  4.828314  0.00000  0.000000     0.000000   \n",
       "3   0.000000  0.000000  0.000000  0.000000  5.83773  2.564949     0.000000   \n",
       "4   1.223775  1.098612  1.386294  0.000000  0.00000  0.000000     0.000000   \n",
       "5   0.000000  1.098612  0.000000  0.000000  0.00000  0.000000     1.609438   \n",
       "6   1.223775  1.098612  1.386294  0.000000  0.00000  0.000000     0.000000   \n",
       "7   0.000000  0.000000  0.000000  0.000000  5.83773  0.000000     0.000000   \n",
       "8   0.000000  1.098612  0.000000  0.000000  0.00000  0.000000     1.609438   \n",
       "9   1.223775  2.197225  0.000000  0.000000  0.00000  0.000000     0.000000   \n",
       "10  0.000000  0.000000  1.386294  4.828314  0.00000  0.000000     0.000000   \n",
       "11  0.000000  0.000000  0.000000  1.609438  0.00000  0.000000     1.609438   \n",
       "\n",
       "    strawberries  \n",
       "0       0.000000  \n",
       "1       0.000000  \n",
       "2       0.000000  \n",
       "3       0.000000  \n",
       "4       0.000000  \n",
       "5       1.609438  \n",
       "6       0.000000  \n",
       "7       0.000000  \n",
       "8       1.609438  \n",
       "9       0.000000  \n",
       "10      0.000000  \n",
       "11      1.609438  "
      ]
     },
     "execution_count": 7,
     "metadata": {},
     "output_type": "execute_result"
    }
   ],
   "source": [
    "import numpy as np\n",
    "import pandas as pd\n",
    "\n",
    "class TfidfVectorizer:\n",
    "\n",
    "    def __init__(self):\n",
    "        self.vocabulary = {}\n",
    "        self.document_frequency = {}\n",
    "        \n",
    "    def fit(self, corpus): \n",
    "        for doc in corpus:\n",
    "            for word in set(doc.lower().split()):\n",
    "                if word not in self.vocabulary:\n",
    "                    self.vocabulary[word] = len(self.vocabulary)\n",
    "\n",
    "        # doc frequency\n",
    "        self.document_frequency = {term: 0 for term in self.vocabulary}\n",
    "        for doc in corpus:\n",
    "            unique_terms = set(doc.lower().split())\n",
    "            for word in unique_terms:\n",
    "                self.document_frequency[word] += 1\n",
    "\n",
    "        # IDF calculation\n",
    "        self.inverse_document_frequency = {}\n",
    "        N = len(corpus)\n",
    "        for term, df in self.document_frequency.items():\n",
    "            self.inverse_document_frequency[term] = float(np.log(N/df+1))\n",
    "\n",
    "    def transform(self, corpus):\n",
    "        tf_idf_matrix = np.zeros((len(corpus), len(self.vocabulary)))\n",
    "\n",
    "        for i, doc in enumerate(corpus):\n",
    "            term_count = {}\n",
    "            for term in doc.lower().split():\n",
    "                term_count[term] = term_count.get(term, 0) + 1\n",
    "\n",
    "            for term, count in term_count.items():\n",
    "                if term in self.vocabulary:\n",
    "                    tf = count\n",
    "                    idf = self.inverse_document_frequency[term]\n",
    "                    tf_idf_matrix[i][self.vocabulary[term]] = tf * idf\n",
    "\n",
    "        return tf_idf_matrix \n",
    "    \n",
    "    def fit_transform(self, corpus):\n",
    "        self.fit(corpus)\n",
    "        result = self.transform(corpus)\n",
    "        return result\n",
    "\n",
    "corpus = [\n",
    "    \"Apple Apple Banana\",\n",
    "    \"Banana Mango Banana\",\n",
    "    \"Cherry Cherry Cherry\",\n",
    "    \"Grapes Grapes Berries Grapes\",\n",
    "    \"Apple Banana Mango\",\n",
    "    \"Blueberries Strawberries Apple\",\n",
    "    \"Apple Banana Mango\",\n",
    "    \"Grapes Grapes Grapes\",\n",
    "    \"Blueberries Apple Strawberries\",\n",
    "    \"Apple Banana Apple\",\n",
    "    \"Cherry Cherry Mango Cherry\",\n",
    "    \"Blueberries Strawberries Cherry\",\n",
    "]\n",
    "\n",
    "def format_matrix(vocab, matrix):\n",
    "    if len(vocab) == len(matrix[0]):\n",
    "        terms = list(vocab)\n",
    "        return pd.DataFrame(\n",
    "            data=matrix,\n",
    "            columns=terms\n",
    "        )\n",
    "    else:\n",
    "        raise ValueError(\"Vocabulary and Result matrix do not match\")\n",
    "\n",
    "\n",
    "tf_idf = TfidfVectorizer()\n",
    "# tf_idf.fit(corpus)\n",
    "\n",
    "result = tf_idf.fit_transform(corpus)\n",
    "\n",
    "print(f\"Vocab: {tf_idf.vocabulary}\")\n",
    "print(f\"Document Frequency: {tf_idf.document_frequency}\")\n",
    "print(f\"IDF: {tf_idf.inverse_document_frequency}\")\n",
    "print(\"Result:\")\n",
    "format_matrix(tf_idf.vocabulary, result)"
   ]
  },
  {
   "cell_type": "code",
   "execution_count": 8,
   "metadata": {},
   "outputs": [
    {
     "data": {
      "application/vnd.plotly.v1+json": {
       "config": {
        "plotlyServerURL": "https://plot.ly"
       },
       "data": [
        {
         "mode": "markers+lines",
         "type": "scatter",
         "x": [
          5,
          6,
          4,
          3,
          2,
          1,
          3,
          3
         ],
         "y": [
          1.2237754316221157,
          1.0986122886681098,
          1.3862943611198906,
          1.6094379124341003,
          1.9459101490553132,
          2.5649493574615367,
          1.6094379124341003,
          1.6094379124341003
         ]
        }
       ],
       "layout": {
        "template": {
         "data": {
          "bar": [
           {
            "error_x": {
             "color": "#2a3f5f"
            },
            "error_y": {
             "color": "#2a3f5f"
            },
            "marker": {
             "line": {
              "color": "#E5ECF6",
              "width": 0.5
             },
             "pattern": {
              "fillmode": "overlay",
              "size": 10,
              "solidity": 0.2
             }
            },
            "type": "bar"
           }
          ],
          "barpolar": [
           {
            "marker": {
             "line": {
              "color": "#E5ECF6",
              "width": 0.5
             },
             "pattern": {
              "fillmode": "overlay",
              "size": 10,
              "solidity": 0.2
             }
            },
            "type": "barpolar"
           }
          ],
          "carpet": [
           {
            "aaxis": {
             "endlinecolor": "#2a3f5f",
             "gridcolor": "white",
             "linecolor": "white",
             "minorgridcolor": "white",
             "startlinecolor": "#2a3f5f"
            },
            "baxis": {
             "endlinecolor": "#2a3f5f",
             "gridcolor": "white",
             "linecolor": "white",
             "minorgridcolor": "white",
             "startlinecolor": "#2a3f5f"
            },
            "type": "carpet"
           }
          ],
          "choropleth": [
           {
            "colorbar": {
             "outlinewidth": 0,
             "ticks": ""
            },
            "type": "choropleth"
           }
          ],
          "contour": [
           {
            "colorbar": {
             "outlinewidth": 0,
             "ticks": ""
            },
            "colorscale": [
             [
              0,
              "#0d0887"
             ],
             [
              0.1111111111111111,
              "#46039f"
             ],
             [
              0.2222222222222222,
              "#7201a8"
             ],
             [
              0.3333333333333333,
              "#9c179e"
             ],
             [
              0.4444444444444444,
              "#bd3786"
             ],
             [
              0.5555555555555556,
              "#d8576b"
             ],
             [
              0.6666666666666666,
              "#ed7953"
             ],
             [
              0.7777777777777778,
              "#fb9f3a"
             ],
             [
              0.8888888888888888,
              "#fdca26"
             ],
             [
              1,
              "#f0f921"
             ]
            ],
            "type": "contour"
           }
          ],
          "contourcarpet": [
           {
            "colorbar": {
             "outlinewidth": 0,
             "ticks": ""
            },
            "type": "contourcarpet"
           }
          ],
          "heatmap": [
           {
            "colorbar": {
             "outlinewidth": 0,
             "ticks": ""
            },
            "colorscale": [
             [
              0,
              "#0d0887"
             ],
             [
              0.1111111111111111,
              "#46039f"
             ],
             [
              0.2222222222222222,
              "#7201a8"
             ],
             [
              0.3333333333333333,
              "#9c179e"
             ],
             [
              0.4444444444444444,
              "#bd3786"
             ],
             [
              0.5555555555555556,
              "#d8576b"
             ],
             [
              0.6666666666666666,
              "#ed7953"
             ],
             [
              0.7777777777777778,
              "#fb9f3a"
             ],
             [
              0.8888888888888888,
              "#fdca26"
             ],
             [
              1,
              "#f0f921"
             ]
            ],
            "type": "heatmap"
           }
          ],
          "heatmapgl": [
           {
            "colorbar": {
             "outlinewidth": 0,
             "ticks": ""
            },
            "colorscale": [
             [
              0,
              "#0d0887"
             ],
             [
              0.1111111111111111,
              "#46039f"
             ],
             [
              0.2222222222222222,
              "#7201a8"
             ],
             [
              0.3333333333333333,
              "#9c179e"
             ],
             [
              0.4444444444444444,
              "#bd3786"
             ],
             [
              0.5555555555555556,
              "#d8576b"
             ],
             [
              0.6666666666666666,
              "#ed7953"
             ],
             [
              0.7777777777777778,
              "#fb9f3a"
             ],
             [
              0.8888888888888888,
              "#fdca26"
             ],
             [
              1,
              "#f0f921"
             ]
            ],
            "type": "heatmapgl"
           }
          ],
          "histogram": [
           {
            "marker": {
             "pattern": {
              "fillmode": "overlay",
              "size": 10,
              "solidity": 0.2
             }
            },
            "type": "histogram"
           }
          ],
          "histogram2d": [
           {
            "colorbar": {
             "outlinewidth": 0,
             "ticks": ""
            },
            "colorscale": [
             [
              0,
              "#0d0887"
             ],
             [
              0.1111111111111111,
              "#46039f"
             ],
             [
              0.2222222222222222,
              "#7201a8"
             ],
             [
              0.3333333333333333,
              "#9c179e"
             ],
             [
              0.4444444444444444,
              "#bd3786"
             ],
             [
              0.5555555555555556,
              "#d8576b"
             ],
             [
              0.6666666666666666,
              "#ed7953"
             ],
             [
              0.7777777777777778,
              "#fb9f3a"
             ],
             [
              0.8888888888888888,
              "#fdca26"
             ],
             [
              1,
              "#f0f921"
             ]
            ],
            "type": "histogram2d"
           }
          ],
          "histogram2dcontour": [
           {
            "colorbar": {
             "outlinewidth": 0,
             "ticks": ""
            },
            "colorscale": [
             [
              0,
              "#0d0887"
             ],
             [
              0.1111111111111111,
              "#46039f"
             ],
             [
              0.2222222222222222,
              "#7201a8"
             ],
             [
              0.3333333333333333,
              "#9c179e"
             ],
             [
              0.4444444444444444,
              "#bd3786"
             ],
             [
              0.5555555555555556,
              "#d8576b"
             ],
             [
              0.6666666666666666,
              "#ed7953"
             ],
             [
              0.7777777777777778,
              "#fb9f3a"
             ],
             [
              0.8888888888888888,
              "#fdca26"
             ],
             [
              1,
              "#f0f921"
             ]
            ],
            "type": "histogram2dcontour"
           }
          ],
          "mesh3d": [
           {
            "colorbar": {
             "outlinewidth": 0,
             "ticks": ""
            },
            "type": "mesh3d"
           }
          ],
          "parcoords": [
           {
            "line": {
             "colorbar": {
              "outlinewidth": 0,
              "ticks": ""
             }
            },
            "type": "parcoords"
           }
          ],
          "pie": [
           {
            "automargin": true,
            "type": "pie"
           }
          ],
          "scatter": [
           {
            "fillpattern": {
             "fillmode": "overlay",
             "size": 10,
             "solidity": 0.2
            },
            "type": "scatter"
           }
          ],
          "scatter3d": [
           {
            "line": {
             "colorbar": {
              "outlinewidth": 0,
              "ticks": ""
             }
            },
            "marker": {
             "colorbar": {
              "outlinewidth": 0,
              "ticks": ""
             }
            },
            "type": "scatter3d"
           }
          ],
          "scattercarpet": [
           {
            "marker": {
             "colorbar": {
              "outlinewidth": 0,
              "ticks": ""
             }
            },
            "type": "scattercarpet"
           }
          ],
          "scattergeo": [
           {
            "marker": {
             "colorbar": {
              "outlinewidth": 0,
              "ticks": ""
             }
            },
            "type": "scattergeo"
           }
          ],
          "scattergl": [
           {
            "marker": {
             "colorbar": {
              "outlinewidth": 0,
              "ticks": ""
             }
            },
            "type": "scattergl"
           }
          ],
          "scattermapbox": [
           {
            "marker": {
             "colorbar": {
              "outlinewidth": 0,
              "ticks": ""
             }
            },
            "type": "scattermapbox"
           }
          ],
          "scatterpolar": [
           {
            "marker": {
             "colorbar": {
              "outlinewidth": 0,
              "ticks": ""
             }
            },
            "type": "scatterpolar"
           }
          ],
          "scatterpolargl": [
           {
            "marker": {
             "colorbar": {
              "outlinewidth": 0,
              "ticks": ""
             }
            },
            "type": "scatterpolargl"
           }
          ],
          "scatterternary": [
           {
            "marker": {
             "colorbar": {
              "outlinewidth": 0,
              "ticks": ""
             }
            },
            "type": "scatterternary"
           }
          ],
          "surface": [
           {
            "colorbar": {
             "outlinewidth": 0,
             "ticks": ""
            },
            "colorscale": [
             [
              0,
              "#0d0887"
             ],
             [
              0.1111111111111111,
              "#46039f"
             ],
             [
              0.2222222222222222,
              "#7201a8"
             ],
             [
              0.3333333333333333,
              "#9c179e"
             ],
             [
              0.4444444444444444,
              "#bd3786"
             ],
             [
              0.5555555555555556,
              "#d8576b"
             ],
             [
              0.6666666666666666,
              "#ed7953"
             ],
             [
              0.7777777777777778,
              "#fb9f3a"
             ],
             [
              0.8888888888888888,
              "#fdca26"
             ],
             [
              1,
              "#f0f921"
             ]
            ],
            "type": "surface"
           }
          ],
          "table": [
           {
            "cells": {
             "fill": {
              "color": "#EBF0F8"
             },
             "line": {
              "color": "white"
             }
            },
            "header": {
             "fill": {
              "color": "#C8D4E3"
             },
             "line": {
              "color": "white"
             }
            },
            "type": "table"
           }
          ]
         },
         "layout": {
          "annotationdefaults": {
           "arrowcolor": "#2a3f5f",
           "arrowhead": 0,
           "arrowwidth": 1
          },
          "autotypenumbers": "strict",
          "coloraxis": {
           "colorbar": {
            "outlinewidth": 0,
            "ticks": ""
           }
          },
          "colorscale": {
           "diverging": [
            [
             0,
             "#8e0152"
            ],
            [
             0.1,
             "#c51b7d"
            ],
            [
             0.2,
             "#de77ae"
            ],
            [
             0.3,
             "#f1b6da"
            ],
            [
             0.4,
             "#fde0ef"
            ],
            [
             0.5,
             "#f7f7f7"
            ],
            [
             0.6,
             "#e6f5d0"
            ],
            [
             0.7,
             "#b8e186"
            ],
            [
             0.8,
             "#7fbc41"
            ],
            [
             0.9,
             "#4d9221"
            ],
            [
             1,
             "#276419"
            ]
           ],
           "sequential": [
            [
             0,
             "#0d0887"
            ],
            [
             0.1111111111111111,
             "#46039f"
            ],
            [
             0.2222222222222222,
             "#7201a8"
            ],
            [
             0.3333333333333333,
             "#9c179e"
            ],
            [
             0.4444444444444444,
             "#bd3786"
            ],
            [
             0.5555555555555556,
             "#d8576b"
            ],
            [
             0.6666666666666666,
             "#ed7953"
            ],
            [
             0.7777777777777778,
             "#fb9f3a"
            ],
            [
             0.8888888888888888,
             "#fdca26"
            ],
            [
             1,
             "#f0f921"
            ]
           ],
           "sequentialminus": [
            [
             0,
             "#0d0887"
            ],
            [
             0.1111111111111111,
             "#46039f"
            ],
            [
             0.2222222222222222,
             "#7201a8"
            ],
            [
             0.3333333333333333,
             "#9c179e"
            ],
            [
             0.4444444444444444,
             "#bd3786"
            ],
            [
             0.5555555555555556,
             "#d8576b"
            ],
            [
             0.6666666666666666,
             "#ed7953"
            ],
            [
             0.7777777777777778,
             "#fb9f3a"
            ],
            [
             0.8888888888888888,
             "#fdca26"
            ],
            [
             1,
             "#f0f921"
            ]
           ]
          },
          "colorway": [
           "#636efa",
           "#EF553B",
           "#00cc96",
           "#ab63fa",
           "#FFA15A",
           "#19d3f3",
           "#FF6692",
           "#B6E880",
           "#FF97FF",
           "#FECB52"
          ],
          "font": {
           "color": "#2a3f5f"
          },
          "geo": {
           "bgcolor": "white",
           "lakecolor": "white",
           "landcolor": "#E5ECF6",
           "showlakes": true,
           "showland": true,
           "subunitcolor": "white"
          },
          "hoverlabel": {
           "align": "left"
          },
          "hovermode": "closest",
          "mapbox": {
           "style": "light"
          },
          "paper_bgcolor": "white",
          "plot_bgcolor": "#E5ECF6",
          "polar": {
           "angularaxis": {
            "gridcolor": "white",
            "linecolor": "white",
            "ticks": ""
           },
           "bgcolor": "#E5ECF6",
           "radialaxis": {
            "gridcolor": "white",
            "linecolor": "white",
            "ticks": ""
           }
          },
          "scene": {
           "xaxis": {
            "backgroundcolor": "#E5ECF6",
            "gridcolor": "white",
            "gridwidth": 2,
            "linecolor": "white",
            "showbackground": true,
            "ticks": "",
            "zerolinecolor": "white"
           },
           "yaxis": {
            "backgroundcolor": "#E5ECF6",
            "gridcolor": "white",
            "gridwidth": 2,
            "linecolor": "white",
            "showbackground": true,
            "ticks": "",
            "zerolinecolor": "white"
           },
           "zaxis": {
            "backgroundcolor": "#E5ECF6",
            "gridcolor": "white",
            "gridwidth": 2,
            "linecolor": "white",
            "showbackground": true,
            "ticks": "",
            "zerolinecolor": "white"
           }
          },
          "shapedefaults": {
           "line": {
            "color": "#2a3f5f"
           }
          },
          "ternary": {
           "aaxis": {
            "gridcolor": "white",
            "linecolor": "white",
            "ticks": ""
           },
           "baxis": {
            "gridcolor": "white",
            "linecolor": "white",
            "ticks": ""
           },
           "bgcolor": "#E5ECF6",
           "caxis": {
            "gridcolor": "white",
            "linecolor": "white",
            "ticks": ""
           }
          },
          "title": {
           "x": 0.05
          },
          "xaxis": {
           "automargin": true,
           "gridcolor": "white",
           "linecolor": "white",
           "ticks": "",
           "title": {
            "standoff": 15
           },
           "zerolinecolor": "white",
           "zerolinewidth": 2
          },
          "yaxis": {
           "automargin": true,
           "gridcolor": "white",
           "linecolor": "white",
           "ticks": "",
           "title": {
            "standoff": 15
           },
           "zerolinecolor": "white",
           "zerolinewidth": 2
          }
         }
        },
        "title": {
         "text": "DF vs IDF"
        },
        "xaxis": {
         "title": {
          "text": "Document Frequency"
         }
        },
        "yaxis": {
         "title": {
          "text": "Inverse Document Frequency"
         }
        }
       }
      }
     },
     "metadata": {},
     "output_type": "display_data"
    }
   ],
   "source": [
    "import plotly.graph_objects as go\n",
    "\n",
    "x_values = [df for _, df in tf_idf.document_frequency.items()]\n",
    "y_values = [idf for _, idf in tf_idf.inverse_document_frequency.items()]\n",
    "\n",
    "fig = go.Figure()\n",
    "\n",
    "fig.add_trace(\n",
    "    go.Scatter(\n",
    "        x=x_values,\n",
    "        y=y_values,\n",
    "        mode=\"markers+lines\"\n",
    "    )\n",
    ")\n",
    "\n",
    "fig.update_layout(\n",
    "    title=\"DF vs IDF\",\n",
    "    xaxis_title=\"Document Frequency\",\n",
    "    yaxis_title=\"Inverse Document Frequency\"\n",
    ")\n",
    "\n",
    "fig.show()"
   ]
  },
  {
   "cell_type": "markdown",
   "metadata": {},
   "source": [
    "The above chart shows how the IDF score changes as per the number of documents in which the term appears. As the number of documents increases, the IDF score decreases. This is because the term becomes less unique as it appears in more documents."
   ]
  },
  {
   "cell_type": "code",
   "execution_count": null,
   "metadata": {},
   "outputs": [
    {
     "name": "stdout",
     "output_type": "stream",
     "text": [
      "Query: banana mango\n"
     ]
    },
    {
     "data": {
      "text/plain": [
       "[{'doc': 'Banana Mango Banana', 'score': 0.945},\n",
       " {'doc': 'Apple Banana Mango', 'score': 0.86},\n",
       " {'doc': 'Apple Banana Mango', 'score': 0.86},\n",
       " {'doc': 'Apple Banana Apple', 'score': 0.322},\n",
       " {'doc': 'Apple Apple Banana', 'score': 0.322}]"
      ]
     },
     "execution_count": 60,
     "metadata": {},
     "output_type": "execute_result"
    }
   ],
   "source": [
    "from sklearn.metrics.pairwise import cosine_similarity\n",
    "\n",
    "def retrieve_docs(query: str, corpus: list[str], result, tf_idf, top_k: int = 3):\n",
    "    query_vector = tf_idf.transform([query])\n",
    "    similarity_score = cosine_similarity(query_vector, result)\n",
    "    ranked_indices = similarity_score.argsort()[0][::-1]\n",
    "    retrieved_docs = [{\"doc\": corpus[i], \"score\": round(float(similarity_score[0][i]), 3)} for i in ranked_indices[:top_k]]\n",
    "    return retrieved_docs\n",
    "\n",
    "queries = [\n",
    "    \"Blueberries Strawberries\",\n",
    "    \"grapes\",\n",
    "    \"cherry\",\n",
    "    \"banana mango\"\n",
    "]\n",
    "query = queries[3]\n",
    "print(f\"Query: {query}\")\n",
    "docs = retrieve_docs(query, corpus, result, tf_idf, top_k=5)\n",
    "docs"
   ]
  },
  {
   "cell_type": "markdown",
   "metadata": {},
   "source": [
    "### References\n",
    "\n",
    "* https://www.youtube.com/watch?v=D3yL63aYNMQ&list=PLoROMvodv4rOwvldxftJTmoR3kRcWkJBp&index=16&pp=iAQB\n",
    "* https://www.geeksforgeeks.org/understanding-tf-idf-term-frequency-inverse-document-frequency/"
   ]
  },
  {
   "cell_type": "markdown",
   "metadata": {},
   "source": []
  }
 ],
 "metadata": {
  "kernelspec": {
   "display_name": ".venv",
   "language": "python",
   "name": "python3"
  },
  "language_info": {
   "codemirror_mode": {
    "name": "ipython",
    "version": 3
   },
   "file_extension": ".py",
   "mimetype": "text/x-python",
   "name": "python",
   "nbconvert_exporter": "python",
   "pygments_lexer": "ipython3",
   "version": "3.12.6"
  }
 },
 "nbformat": 4,
 "nbformat_minor": 2
}
